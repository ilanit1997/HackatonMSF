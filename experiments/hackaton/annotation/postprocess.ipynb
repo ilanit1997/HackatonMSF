{
 "cells": [
  {
   "cell_type": "code",
   "execution_count": null,
   "id": "initial_id",
   "metadata": {
    "collapsed": true
   },
   "outputs": [],
   "source": [
    "from annotate_utils import *"
   ]
  },
  {
   "cell_type": "code",
   "outputs": [
    {
     "name": "stdout",
     "output_type": "stream",
     "text": [
      "loaded 60265 rows\n",
      "filtered to 42354 rows\n"
     ]
    }
   ],
   "source": [
    "df = load_data()\n",
    "df_filtered = filter_data(df)"
   ],
   "metadata": {
    "collapsed": false,
    "ExecuteTime": {
     "end_time": "2024-05-06T06:13:04.572459Z",
     "start_time": "2024-05-06T06:12:55.013163Z"
    }
   },
   "id": "4221ba4923531d9a",
   "execution_count": 2
  },
  {
   "cell_type": "code",
   "outputs": [
    {
     "data": {
      "text/plain": "subreddit\nInfidelity               844\nLifeAfterNarcissism     2436\nNarcAbuseAndDivorce     2032\nNarcissisticSpouses     3593\nToxicRelationships      1099\nabusesurvivors          2526\nabusiverelationships    6087\ndomesticviolence        4059\nemotionalabuse          3499\nrelationship_advice     7119\nrelationships           6181\nsurvivinginfidelity     2878\nName: post_id, dtype: int64"
     },
     "execution_count": 3,
     "metadata": {},
     "output_type": "execute_result"
    }
   ],
   "source": [
    "df_filtered.groupby('subreddit')[\"post_id\"].count().head(12)"
   ],
   "metadata": {
    "collapsed": false,
    "ExecuteTime": {
     "end_time": "2024-05-06T06:13:04.586099Z",
     "start_time": "2024-05-06T06:13:04.574538Z"
    }
   },
   "id": "7f543ff52f2e24b1",
   "execution_count": 3
  },
  {
   "cell_type": "markdown",
   "source": [
    "#### Load the labeled data"
   ],
   "metadata": {
    "collapsed": false
   },
   "id": "c93532e7185244e7"
  },
  {
   "cell_type": "code",
   "outputs": [],
   "source": [
    "import pickle\n",
    "import pandas as pd \n",
    "labeled_metadata = pickle.load(open('/data/home/ilanit.sobol/dv/data/outputs/reddit/labeled/iter2/results_posts_labels.pkl', 'rb'))"
   ],
   "metadata": {
    "collapsed": false,
    "ExecuteTime": {
     "end_time": "2024-05-13T08:44:52.824967Z",
     "start_time": "2024-05-13T08:44:52.038297Z"
    }
   },
   "id": "9260da41f2a9e504",
   "execution_count": 4
  },
  {
   "cell_type": "code",
   "outputs": [],
   "source": [
    "#### Join the results with the original data\n",
    "results_df_labels = pd.DataFrame(labeled_metadata)\n",
    "results_df_labels = results_df_labels[results_df_labels[\"output_json\"] != None]\n",
    "expanded_json_df_labels = pd.json_normalize(results_df_labels['output_json'])\n",
    "expanded_json_df_labels[\"post_id\"] = results_df_labels[\"post_id\"]\n",
    "expanded_json_df_labels = expanded_json_df_labels.set_index(\"post_id\")\n",
    "results_df_labels = results_df_labels.set_index(\"post_id\")\n",
    "results_df_joined_labels = results_df_labels.join(expanded_json_df_labels, how='inner')\n",
    "results_df_joined_labels = results_df_joined_labels.drop([\"story\", \"output_json\"], axis=1)\n",
    "final_df_joined_all = df_filtered.merge(results_df_joined_labels, left_on = \"post_id\", right_on=\"post_id\", how='inner').reset_index()"
   ],
   "metadata": {
    "collapsed": false
   },
   "id": "5fe9c019e0c60b4",
   "execution_count": null
  },
  {
   "cell_type": "code",
   "outputs": [
    {
     "data": {
      "text/plain": "yes                   21525\nno                     2605\ncannot be inferred      737\nirrelevant               63\nName: is_romantic, dtype: int64"
     },
     "execution_count": 11,
     "metadata": {},
     "output_type": "execute_result"
    }
   ],
   "source": [
    "final_df_joined_all[\"is_romantic\"].value_counts()"
   ],
   "metadata": {
    "collapsed": false,
    "ExecuteTime": {
     "end_time": "2024-05-06T06:14:35.666877Z",
     "start_time": "2024-05-06T06:14:35.657859Z"
    }
   },
   "id": "59447b580420834f",
   "execution_count": 11
  },
  {
   "cell_type": "code",
   "outputs": [
    {
     "data": {
      "text/plain": "dating                        6549\nmarried                       6480\nrelationship                  5924\nfamily                        1834\nother                         1486\ncannot be inferred            1167\nengaged                        681\nfriends                        615\nco-workers                     117\nroommates                       55\nclassmates                      17\nsituationship                    2\nacquaintance of the victim       1\nneighbors                        1\nfriends with benefits            1\nName: relationship_type, dtype: int64"
     },
     "execution_count": 15,
     "metadata": {},
     "output_type": "execute_result"
    }
   ],
   "source": [
    "final_df_joined_all[\"relationship_type\"].value_counts()"
   ],
   "metadata": {
    "collapsed": false,
    "ExecuteTime": {
     "end_time": "2024-05-06T06:16:29.435213Z",
     "start_time": "2024-05-06T06:16:29.425995Z"
    }
   },
   "id": "d6fba031358cb816",
   "execution_count": 15
  },
  {
   "cell_type": "code",
   "outputs": [
    {
     "data": {
      "text/plain": "       post_id                                              title  \\\n18070  1c91uo7  Bf of 7 years who is 27M is too busy for me 27...   \n10966  181v4uz                    Can you be abused by a sibling?   \n7705   18abwhj                     I feel like a I can't anymore.   \n\n                post_author  \\\n18070  Embarrassed-Carob178   \n10966                 ljxbb   \n7705               Wildoves   \n\n                                                    body          date_time  \\\n18070  Hi everyone,\\n\\nSo, my boyfriend and I have be...  20/04/24 22:04:58   \n10966  I’m trying to figure this out. My brother is a...  23/11/23 06:47:00   \n7705   This year has been so shitty.  My grandfather ...  04/12/23 04:06:30   \n\n                                                     url score num_comments  \\\n18070  https://www.reddit.com/r/relationships/comment...     2            1   \n10966  https://www.reddit.com/r/abusesurvivors/commen...     8           19   \n7705   https://www.reddit.com/r/abusesurvivors/commen...     0            2   \n\n      flairs highest_comment_id  ...            children relationship_type  \\\n18070     []            l0izhvv  ...  cannot be inferred            dating   \n10966     []            kakko09  ...          irrelevant            family   \n7705      []            kbxcwk8  ...          irrelevant             other   \n\n      was_breakup  when_breakup                                 story_type  \\\n18070          no    irrelevant  advice request (without a personal story)   \n10966          no    irrelevant                   sharing a personal story   \n7705           no    irrelevant                   sharing a personal story   \n\n      author_role         living_with age_female  age_male author_gender  \n18070       other  cannot be inferred       27.0      27.0        female  \n10966      victim  cannot be inferred        NaN       NaN        female  \n7705       victim  cannot be inferred        NaN       NaN        female  \n\n[3 rows x 36 columns]",
      "text/html": "<div>\n<style scoped>\n    .dataframe tbody tr th:only-of-type {\n        vertical-align: middle;\n    }\n\n    .dataframe tbody tr th {\n        vertical-align: top;\n    }\n\n    .dataframe thead th {\n        text-align: right;\n    }\n</style>\n<table border=\"1\" class=\"dataframe\">\n  <thead>\n    <tr style=\"text-align: right;\">\n      <th></th>\n      <th>post_id</th>\n      <th>title</th>\n      <th>post_author</th>\n      <th>body</th>\n      <th>date_time</th>\n      <th>url</th>\n      <th>score</th>\n      <th>num_comments</th>\n      <th>flairs</th>\n      <th>highest_comment_id</th>\n      <th>...</th>\n      <th>children</th>\n      <th>relationship_type</th>\n      <th>was_breakup</th>\n      <th>when_breakup</th>\n      <th>story_type</th>\n      <th>author_role</th>\n      <th>living_with</th>\n      <th>age_female</th>\n      <th>age_male</th>\n      <th>author_gender</th>\n    </tr>\n  </thead>\n  <tbody>\n    <tr>\n      <th>18070</th>\n      <td>1c91uo7</td>\n      <td>Bf of 7 years who is 27M is too busy for me 27...</td>\n      <td>Embarrassed-Carob178</td>\n      <td>Hi everyone,\\n\\nSo, my boyfriend and I have be...</td>\n      <td>20/04/24 22:04:58</td>\n      <td>https://www.reddit.com/r/relationships/comment...</td>\n      <td>2</td>\n      <td>1</td>\n      <td>[]</td>\n      <td>l0izhvv</td>\n      <td>...</td>\n      <td>cannot be inferred</td>\n      <td>dating</td>\n      <td>no</td>\n      <td>irrelevant</td>\n      <td>advice request (without a personal story)</td>\n      <td>other</td>\n      <td>cannot be inferred</td>\n      <td>27.0</td>\n      <td>27.0</td>\n      <td>female</td>\n    </tr>\n    <tr>\n      <th>10966</th>\n      <td>181v4uz</td>\n      <td>Can you be abused by a sibling?</td>\n      <td>ljxbb</td>\n      <td>I’m trying to figure this out. My brother is a...</td>\n      <td>23/11/23 06:47:00</td>\n      <td>https://www.reddit.com/r/abusesurvivors/commen...</td>\n      <td>8</td>\n      <td>19</td>\n      <td>[]</td>\n      <td>kakko09</td>\n      <td>...</td>\n      <td>irrelevant</td>\n      <td>family</td>\n      <td>no</td>\n      <td>irrelevant</td>\n      <td>sharing a personal story</td>\n      <td>victim</td>\n      <td>cannot be inferred</td>\n      <td>NaN</td>\n      <td>NaN</td>\n      <td>female</td>\n    </tr>\n    <tr>\n      <th>7705</th>\n      <td>18abwhj</td>\n      <td>I feel like a I can't anymore.</td>\n      <td>Wildoves</td>\n      <td>This year has been so shitty.  My grandfather ...</td>\n      <td>04/12/23 04:06:30</td>\n      <td>https://www.reddit.com/r/abusesurvivors/commen...</td>\n      <td>0</td>\n      <td>2</td>\n      <td>[]</td>\n      <td>kbxcwk8</td>\n      <td>...</td>\n      <td>irrelevant</td>\n      <td>other</td>\n      <td>no</td>\n      <td>irrelevant</td>\n      <td>sharing a personal story</td>\n      <td>victim</td>\n      <td>cannot be inferred</td>\n      <td>NaN</td>\n      <td>NaN</td>\n      <td>female</td>\n    </tr>\n  </tbody>\n</table>\n<p>3 rows × 36 columns</p>\n</div>"
     },
     "execution_count": 21,
     "metadata": {},
     "output_type": "execute_result"
    }
   ],
   "source": [
    "final_df_joined_all.sample(3)"
   ],
   "metadata": {
    "collapsed": false,
    "ExecuteTime": {
     "end_time": "2024-05-06T06:23:30.884756Z",
     "start_time": "2024-05-06T06:23:30.831148Z"
    }
   },
   "id": "10da6b836799966d",
   "execution_count": 21
  },
  {
   "cell_type": "code",
   "outputs": [],
   "source": [
    "filters = {\"is_romantic\": \"yes\", \"story_type\": \"sharing a personal story\"}"
   ],
   "metadata": {
    "collapsed": false,
    "ExecuteTime": {
     "end_time": "2024-05-06T06:15:19.896727Z",
     "start_time": "2024-05-06T06:15:19.894176Z"
    }
   },
   "id": "5a879a77d9a397e1",
   "execution_count": 12
  },
  {
   "cell_type": "code",
   "outputs": [],
   "source": [
    "final_df_joined_all_filtered = final_df_joined_all.copy()\n",
    "for key, value in filters.items():\n",
    "    final_df_joined_all_filtered = final_df_joined_all_filtered[final_df_joined_all_filtered[key] == value]"
   ],
   "metadata": {
    "collapsed": false,
    "ExecuteTime": {
     "end_time": "2024-05-06T06:29:39.624188Z",
     "start_time": "2024-05-06T06:29:39.557735Z"
    }
   },
   "id": "fdee9a236958eca",
   "execution_count": 29
  },
  {
   "cell_type": "code",
   "outputs": [
    {
     "data": {
      "text/plain": "(13805, 36)"
     },
     "execution_count": 30,
     "metadata": {},
     "output_type": "execute_result"
    }
   ],
   "source": [
    "final_df_joined_all_filtered.shape"
   ],
   "metadata": {
    "collapsed": false,
    "ExecuteTime": {
     "end_time": "2024-05-06T06:29:41.355525Z",
     "start_time": "2024-05-06T06:29:41.352059Z"
    }
   },
   "id": "6c6450685499dab0",
   "execution_count": 30
  },
  {
   "cell_type": "code",
   "outputs": [],
   "source": [
    "def is_age_above_x(value, x=18):\n",
    "    try:\n",
    "        age = int(value)\n",
    "        return age > x\n",
    "    except:\n",
    "        return True"
   ],
   "metadata": {
    "collapsed": false,
    "ExecuteTime": {
     "end_time": "2024-05-06T06:29:43.471355Z",
     "start_time": "2024-05-06T06:29:43.468536Z"
    }
   },
   "id": "120c33864d84b294",
   "execution_count": 31
  },
  {
   "cell_type": "code",
   "outputs": [
    {
     "data": {
      "text/plain": "(13574, 38)"
     },
     "execution_count": 32,
     "metadata": {},
     "output_type": "execute_result"
    }
   ],
   "source": [
    "final_df_joined_all_filtered[\"age_female_above_18\"] = final_df_joined_all_filtered[\"age_female\"].apply(is_age_above_x)\n",
    "final_df_joined_all_filtered[\"age_male_above_18\"] = final_df_joined_all_filtered[\"age_male\"].apply(is_age_above_x)\n",
    "final_df_joined_all_filtered = final_df_joined_all_filtered[(final_df_joined_all_filtered[\"age_male_above_18\"] == True) & (final_df_joined_all_filtered[\"age_female_above_18\"] == True)]\n",
    "final_df_joined_all_filtered.shape"
   ],
   "metadata": {
    "collapsed": false,
    "ExecuteTime": {
     "end_time": "2024-05-06T06:29:46.562114Z",
     "start_time": "2024-05-06T06:29:46.532669Z"
    }
   },
   "id": "c9b0e56b0a92e4d",
   "execution_count": 32
  },
  {
   "cell_type": "code",
   "outputs": [
    {
     "data": {
      "text/plain": "subreddit\nInfidelity               521\nLifeAfterNarcissism     1352\nNarcAbuseAndDivorce      698\nNarcissisticSpouses     1096\nToxicRelationships       186\nabusesurvivors           597\nabusiverelationships    2861\ndomesticviolence        2076\nemotionalabuse          1140\nrelationship_advice      726\nrelationships            547\nsurvivinginfidelity     1774\nName: post_id, dtype: int64"
     },
     "execution_count": 33,
     "metadata": {},
     "output_type": "execute_result"
    }
   ],
   "source": [
    "final_df_joined_all_filtered.groupby('subreddit')[\"post_id\"].count().head(12)"
   ],
   "metadata": {
    "collapsed": false,
    "ExecuteTime": {
     "end_time": "2024-05-06T06:30:17.187372Z",
     "start_time": "2024-05-06T06:30:17.181080Z"
    }
   },
   "id": "bbbb06b22c34ab92",
   "execution_count": 33
  },
  {
   "cell_type": "code",
   "outputs": [
    {
     "name": "stdout",
     "output_type": "stream",
     "text": [
      "abusiverelationships\n",
      "Divorce is going through\n",
      "Next week. And I just feel so shit about it. I love him but I can’t stay with someone who has hurt me so much. He has had more than enough chances. I’ve waited long enough. I’ve fallen out of love with the potential fantasy of a person who he promised to be. That man I love is in my imagination. I can’t keep disrespecting myself anymore. To stay with someone who just continuously treats you with cruelty is just betraying myself. \n",
      "\n",
      "It still hurts to divorce though. I still love that tiny part of him. 10 years. It breaks my heart I know it’s hurting him. I feel for him but I have to choose me. It’s just so hard stepping over and I’m so scared of his reaction too. \n",
      "\n",
      "I wish he hadn’t been so abusive but he was and now I’m always scared and worried about his reaction. Even exs never made me feel like that. \n",
      "\n",
      "-------------------------------------------------\n",
      "I feel alone all the time.\n",
      "Something I wrote in 2021 about my ex: \n",
      "\n",
      "We’ve been together 3.5 years, and we got married a week ago. We’ve had so many problems over the years, but we always get through them. Somehow as our wedding grew closer I found myself realizing how little time he spends present with me. We will sit in the same room, watch the same show, or eat at a restaurant. But we don’t talk. We don’t engage in anything together. I feel like we are mindlessly living side by side and he’s perfectly happy the way things are because he gets to play video games for 8 hours a day, then watch YouTube, then watch a show, rinse repeat. He’s happy in our relationship and any time I bring up my unhappiness, he just gets defensive. He says I’m attacking him by saying I’m unhappy. Today he asked me for a solution and I said we could figure it out together. He said that he doesn’t have to figure out anything because it’s my unhappiness and not his. So again I’m left to just feel all this alone…I don’t have a family. I don’t have any friends. Somewhere in the last three years I lost everything, and now I’m lost myself.…I’m so tired of life. Tired of everything. I’m not really looking for advice, I just needed to write this out. Get something small out of my head before everything just stops.\n",
      "\n",
      "\n",
      "\n",
      "What I’m experiencing now after leaving: \n",
      "\n",
      "I wrote this about 3 years ago now and it was never posted anywhere because of rules of communities or whatever. \n",
      "\n",
      "It’s been 6 years since I got together with that man and a year since I got away from him. I feel so broken. I was kind in that post about what was going on. \n",
      "He was SA me frequently since we got together, he was physically violent as well as emotionally distant or aggressive. \n",
      "\n",
      "He gave me PTSD. Sometimes when I’m with my now partner in bed, their face morphs into his and I’m terrified.\n",
      "I wake up in the middle of the night after having nightmares of him, so I stay up late to try and avoid sleeping and seeing him. I see him in everything I do. It’s like he’s haunting me. \n",
      "\n",
      "I don’t know how to get past it. I’m going to therapy, I’m trying to go over it and heal it and I’m getting nowhere. I hate it. I hate living in my body and in my mind. I wish I could erase him from my mind but even after a year of being away he’s still here every day. Does it ever get better?\n",
      "-------------------------------------------------\n",
      "My Abuser is getting out of prison tomorrow \n",
      "And I am fucking terrified. He almost killed me 2 years ago. 26 months is all he got with a very clear open 911 call that explained the entire thing. When the police arrived he was on top of me with a loaded gun and his finger one the trigger. He pushed so hard with that barrel I could breathe and had barrel burn marks all the way up my throat. The victim advocate sat there and told me that the system is broken and doesn’t protect victims. I’m so worried he’s coming after me. I’ve removed all of my information online. Moved. Got rid of social media and am terrified to go out in public after today. I’ve been taking anti anxiety meds like crazy because I can’t function. I’m struggling at work and come home take my meds and sleep. Then I have nights where I wake up, can’t sleep and spiral. I want to crawl out of my skin. He’s going to kill me or his next partner but someone will die because the justice system is fucked. \n",
      "-------------------------------------------------\n",
      "I think my ex lied about having my child\n",
      "Hi all. Throwaway account here to get something off my chest I've been carrying for a few years and hear some other opinions. I'm a male and a few years ago I was trapped in a very complicated and emotionally abusive relationship - we both did a lot to hurt one another and I've been in therapy for a long time since, but I do strongly feel she was the aggressor in most situations and that I was doing the best I could at my age (this was right after high school). \n",
      "\n",
      "After a number of years I finally broke off the relationship and started trying to distance her from my life and move on. Things were fine for a few months before a mutual friend reached out to me and told me she was pregnant and I'm the father, though this friend was long distance and presumably only knows what she told them. I met with her in person and confronted her, she told me it was true and that she was 5 months pregnant at the time, though in hindsight she wasn't showing the way you'd expect that far along, which I didn't really think about at the time. This was devastating to me because I felt that our sex life when we were together had been abusive in nature and she would regularly guilt or manipulate me into sex that I didn't want under the implied or directly expressed threat of self-harm. She had told me while we were together that she was on birth control but, like a lot of things around that relationship, I have no idea what was true and what wasn't. I felt that I had finally escaped the relationship and the idea that this would force me to be permanently tied to her was my worst nightmare at the time - I'm ashamed of myself, but I told her that I didn't want anything to do with her or the baby and didn't even want to know their name or gender.\n",
      "\n",
      "A few months later she told me over text that the baby was born and would be living in the care of another family, and I wouldn't have to have anything to do with it. As I've aged I've felt a tremendous amount of guilt over this, as well as confusion and doubt. I'm not sure if I'll ever really be able to forgive myself if I really did reject my child, but at the same time it wouldn't be out of character if the entire thing was a lie meant to keep me from leaving (maybe the next step of the plan if I'd stayed was to fake a miscarriage and rely on me for emotional support and care). I really don't want to get back in touch with her to ask about it, and don't think she would tell me the truth if I did. I don't know anybody who was in her life at that time after we'd split up who I could ask. To my knowledge I don't have any legal right to request birth records. \n",
      "\n",
      "On paper I got what I asked for and nobody's ever reached out to me, it's been a number of years, but this is something that's eaten at me for a long time and that I'm afraid to share with anyone in my life because I'm scared it'll change the way they think of me. I'm mostly writing this to vent, and thank you for reading. If anyone has ever dealt with a similar situation I'd love to hear your thoughts, and if anyone knows of any ways I could figure out the truth (or if I should just let sleeping dogs lie) I would appreciate it. \n",
      "-------------------------------------------------\n",
      "It's really hard to let him go\n",
      "We have been off and on for years now. When things were good, they were great. But he got progressively worse. Our couples therapist diagnosed him with NPD and he then accused me of sleeping with our therapist.\n",
      "\n",
      "I was accused of sleeping with every guy, not allowed to wear certain things outside the house, he was physically abusive, and he isolated me from my friends and family. He sometimes continued more intimate things when I didn't want to, and he would get mad if I pushed him off and said I made him feel like a rapist. He liked to use the silent treatment, which gave me anxiety. It then turned to rage and it was easier to do what he wanted so things would go back to normal, and he would be nice to me for a little bit again. \n",
      "\n",
      "I found out he was cheating on me. He denies it, but it started making sense that he was projecting all of his behavior onto me. He is incapable of believing that others aren't doing the same thing that he is. I left in April.\n",
      "\n",
      "I'm embarrassed to say I've gotten drunk sometimes and texted him. It is like he likes to hurt me. A couple of days ago, he lied about health problems to get me to come home, and said we could work on it together. The other day, I was told to fuck off, that he doesn't love me, and that I am fucking stupid. \n",
      "\n",
      "I am hoping this will be the last time I ever go no contact. I feel so stupid and embarrassed. It really hurt my feelings and I wish it didn't. \n",
      "\n",
      "I am seeing a very nice guy (EMT, super polite, actually takes me on dates, texts me all day, etc.) And we aren't official yet. I told him I'm not ready for that yet. I feel like I don't deserve him and I really hate trauma bonds. I got addicted to the highs and lows with my ex. \n",
      "\n",
      "I don't know what the point of this post is, I'm sorry. I don't have friends, and I'm lonely. I guess if he is so bad, it must make me awful that he doesn't want me anymore.\n",
      "-------------------------------------------------\n",
      "emotionalabuse\n",
      "What is this?\n",
      "My boyfriend tried it on with me this morning. I said I couldn't because I'm on my time of the month. And he turned around and said 'I'll find someone else then'\n",
      "He said it was a joke, but I didn't find it funny. \n",
      "I told him I was pissed off by the comment and he blew it up saying I was being ridiculous and I'm just in a mood cos it's my time of the month. \n",
      "\n",
      "Then I said someone who cares about peoples feelings doesnt tell someone how to feel or that they are being ridiculous! It could be small but if it mattered to me surley they'd apologise? \n",
      "\n",
      "But no he said I'm sorry for the way it made you feel but not for what he said. \n",
      "Then I said wow you don't care do you. He said no and told me he was gona order me a taxi to leave because he wants a nice day. \n",
      "And I'm in a tantrum which I'm not. I just wanted an apology and for him to regognise how he made me feel. \n",
      "He even said he didn't care about me. And got really annoyed.\n",
      "-------------------------------------------------\n",
      "Regaining confidence \n",
      "Hey there, I (f,31) have been out of my emotionally abusive relationship for about 7 months now. I moved back to my home country and finally finished my degree which I had postponed when I was living with my ex. I thought I would feel happy and confident after finally achieving this, but to be honest, I just feel so lost, depressed and my self confidence is at an all time low. I am staying with family now and should be looking for jobs to earn money, move out, maybe to another city and start a new life but I keep procrasinating it because I feel like I am not capable of anything and like nobody would want to hire me. Even though I dont miss him so much anymore, I still hear his voice all the time, telling me that I suck at things or that I dont do things right. A lot of my friends got married or had babies in the last years and cant really relate to what I am going through or simply dont have so much time and their own worries. Also, after not thinking about dating at all at first, I downloaded a dating app a few months ago and started texting with a guy who seemed sweet and genuine and we were writing for two months before finally meeting some days ago. Even though we had a really good connection texting, meeting in real life felt somehow awkward and I was struggling because I was super self concious while talking and felt like my answers were not smart enough. It was strange because during the date he invited me for an activity with him and his friends several times and I told him \"lets see\" because I thought it was a bit much to meet his friends so soon.. but then the next day when we were writing he said the felt like it was a nice date but no spark and send me like 20 messages basically saying he wasnt sure how he was feeling and that I should decide. I told him that I would have liked to see him again but that it sounds too complicated already and that that's not what I am looking for. He replied somewhat along the lines of, ok lets not meet again and I wished him the best and he did too saying that he was sorry and not sure if it is a good decision. Now, even though I also didnt feel a spark, I feel super rejected, hurt and confused. I feel like I am worthless, stupid (my ex told me i was all the time)  and nobody would want me ever again. I just dont know how to get better, regain my self confidence and not attach my self worth to getting validation from men. :( maybe some of you can relate or have some advice.  \n",
      "-------------------------------------------------\n",
      "Aftermath\n",
      "It's been about 6 months since I broke up with my narcissistic ex & am doing much better overall. I just find it so hard unlearning a lot of coping skills that I used during.\n",
      "\n",
      "I have a hard time opening up to people for fear that I would be criticised over the silliest things. I'm trying to get better at confrontation but I can still never do it without fear of getting shouted at or worse. My anxiety these days is at an all time high cause I find myself stressing out about figuring out how to navigate this new stage.\n",
      "\n",
      "I've also become highly sensitive to mood changes of people around me. I think I'm just afraid of history repeating itself. Sometimes, I feel like I don't even know who I really am, and I'm just my coping skills if that makes any sense.\n",
      "\n",
      "Every social interaction feels so difficult cause I end up overthinking most of it, looking for red flags, guarding myself. Some days I blame myself. \n",
      "\n",
      "I am happier after leaving though & I hope soon my mind will realise that I'm not in danger anymore and I don't have to react to violence anymore, I can just relax. \n",
      "\n",
      "I just need someone to tell me there's a light at the end of the tunnel, and help with ways to rewire the way my mind adapted to the abuse.\n",
      "-------------------------------------------------\n",
      "Trauma Bonds Man.\n",
      "I (29f) left my ex (31m) three weeks ago (together four years) . I moved out of our home together and got my own place. I gotta say for the most part I feel peace. Some days I think I'm bored but really my feeling of being bored is actually just being at peace. I still have so much trauma left in me to dissect and resolve. I will be simply existing and then get a jolt of pain from the flashbacks of the trauma. It's a feeling I have since this breakup learned to sit with and have compassion for it. I guess for now it's a one day one emotion type of heartbreak. This is my first relationship I was emotionally abused.\n",
      "\n",
      "Since I've left I've been obsessed with finding the root cause, finding myself and essentially making myself whole again after feeling broken and damaged for so long.\n",
      "\n",
      "I will say my skin has never looked clearer, I am sleeping like a baby, and aside from the flashbacks and momentary lapses of loneliness in my stomach I am doing okay.\n",
      "\n",
      "If you're in it still just know I was you... Every day I was you. Crying to myself and telling myself that I knew I deserved better, getting ignored and trying and pleading someone to love me and show me I was enough. Being cheated on and lied to thinking why am I not just enough?\n",
      "\n",
      "It's a one day one emotion at a time even when you're in it. Even when every fiber in your gut and soul is telling you to walk away. You one day have enough. You one day make the move. When you're ready.\n",
      "\n",
      "If you're also lonely feel free to message me. I know how it can feel to feel helpless and alone even with someone. You're not alone. Ever. You have you always.\n",
      "-------------------------------------------------\n",
      "Using my parents as a fountain of emotional abuse\n",
      "My girlfriend(39F) tells me it has always been a wish of hers in a relationship to have a close and friendly relationship with the parents of her boyfriend. I(42M) have been with my gf for 9 years.\n",
      "\n",
      "We live in Germany and my parents live in the UK so her having a close relationship with them was always going to be a bit harder than if they lived in the same town (or even country) as us.\n",
      "\n",
      "A couple of years ago my gf started to complain about my parents not contacting us enough. My parents just don't call our house claiming it's too expensive which seems more of an excuse because it's obvious they could spare a few extra pounds to call us. \n",
      "\n",
      "Also, the last time they visited us was 2 years ago. Which just adds to the feeling that they're disinterested.\n",
      "\n",
      "No matter how many times I ask my parents to make more of an effort, they don't. In part, I suspect this is because they have a negative view of my gf. With the exception of the honeymoon phase, the times that they visited us or we visited them, there was always some kind of incident where my girlfriend went into a mood that I was not giving her enough attention. On one occasion my parents witnessed my gf being outright verbally nasty to me because I had not stopped cooking dinner halfway to rush outside and meet my gf on her way back from work. Almost like a test to see if I would drop everything for my gf. Even though I often drop things for her.\n",
      "\n",
      "Over the last 12 months my girlfriend appears to have ramped up her scorn for my parents and is making more of an issue of my parents disinterest. I seem to have frequent conflicts with my gf over it. For me, it's simple: if my gf wishes to have a close relationship with my parents then let's work on it. For example: She has had the occasionally whatsapp message with my mum, so she could embrace that as a means of getting closer. But she refuses claiming that it should come from my mum. She refuses to go over to the UK to visit, insisting that it is their turn to come here.\n",
      "\n",
      "So... the whole thing just ends up feeling like an excuse for my gf to fight about something. An excuse to pick on me telling me that my parents don't care or that other boyfriends made more of an effort than me. I feel powerless to do anything which is frustrating.\n",
      "\n",
      "The irony is my gf claims all she wants is a harmonious relationship but what I see is someone making a big issue of something that is not completely under my control. \n",
      "\n",
      "The issue with my parents is like an endless fountain of emotional abuse that she can direct toward me and that's why I'm writing here. I'm starting to think that the issue with my parents actually has nothing to do with my parents but more as an \"energy\" source that my gf can use to direct emotional abuse my way.\n",
      "-------------------------------------------------\n",
      "NarcissisticSpouses\n",
      "Left my cheating nex 6 months ago, he moved on immediately. I haven’t. When will I stop feeling so lonely?\n",
      "*Throwaway because I don’t want my ex or friends to find this on my main. \n",
      "\n",
      "My (43F) nex (65M) and I were together 8+ years. During those years I was so devalued and starved for affection that I lost all my self-confidence when it comes to appearance. Three months after we split, I discovered he was cheating and dating the woman I THOUGHT was just a friend. They didn’t even wait a week after our split before sleeping together, if they hadn’t before already. I suspect they did, but have no proof. She’s around his age. Bit of an extra ego hit with that also. \n",
      "\n",
      "Despite all of my friends telling me how much better off I am because I am young, vivacious, and light up a room, and how great, beautiful, sexy, blah blah blah I am, I haven’t been able to even have a rebound. I’ve been taking my time mourning the end of the relationship, but now I’m ready for some rebound sex. \n",
      "\n",
      "The last two years of my relationship were devoid of sex and even basic intimacy (not due to me). I haven’t gone this long without sex or even just kissing since I was 14. I’m what you’d call a serial monogamist and a bit of a ho in between partners. But I was truly in love and thought we’d be together for the rest of our lives. I thought I had **finally** found “the one”.\n",
      "\n",
      "I am so lonely and starved for affection. I don’t want another relationship at all right now and I’m honest about that, but it’s like I forgot how to flirt, and I think it’s because I don’t feel attractive anymore. He made me feel so undesirable that I don’t even think I’m visible or attracting  others at all. I’ve even tried Tinder to no avail. I’m definitely being picky because I’m not trying to just sleep with any rando, but the few I find interesting aren’t even trying to meet me IRL and I don’t know if it’s me and I’m too overweight, or give off a vibe, maybe it’s our ages, or what. I refuse to chase a grown man since I already felt like I was doing so the past 2+ years.\n",
      "\n",
      "I just feel so rejected. And horny. 🙈\n",
      " \n",
      "How do I get my groove back? I’m trying to be kind to myself, but it’s many years of deprogramming and I am suffering.\n",
      "-------------------------------------------------\n",
      "Question\n",
      "When did you finally start to realize your partner was a narcissist or had narcissistic attributes?\n",
      "\n",
      "I’ve been thinking about this a lot lately to the point I actually gaslight myself. I do this because it seems like he is really good at making himself not “be a narc.” There’s a lot more good days than bad days- and it’s easy to forget who he truly is. Actually as he gets older his personality is getting worse. \n",
      "\n",
      "When I was pregnant with our daughter he got mad at me about something and I left, and I got like ten messages about how a judge would never give me custody over him because he had a job. That was 14 years ago. Then i remember holding my ground, and remembered the messages I got from him lovebombing and apologizing.\n",
      "\n",
      "I also realized he has lost quite a few good friendships he had. And I only ever hear his side.\n",
      "\n",
      "I found an earring in his truck once. I confronted him and he made up this god awful story about how he found it on the ground. Then I got to listen to him tell his family (they were at our house) that I was fighting with him and accusing him of cheating and then replay his god awful story of the earring.\n",
      "\n",
      "Another time at one of his work Xmas parties I got to watch another woman fix his shirt. No kidding. She like patted his chest. Lmao omg. Wow. He was smiling ear to ear.  \n",
      "\n",
      "I wasn’t really strong when I was younger and I was really in love or at least thought I was. \n",
      "\n",
      "One time I got out of work at 7 and when I got home he was outside in my face about why I was an hour late. I was like I’m not late, I got done at 7 and it’s 7:12 right now what are you talking about? He went on to say he called the store I worked at and the auto machine said they closed at five. I said “but they don’t change the auto machine yet for the holidays even though we work extended hours.” Idk how he believed me after that, but then to make up for it he went to the store and bought milk so “I didn’t have to.” So generous \n",
      "\n",
      "Do you ever have these moments where you’re like dang I wish I would have caught that red flag? But information wasn’t so readily available and accessible at your fingertips even 14 years ago. I know I can’t live in the past but sometimes you do have to sit there and sort through it.\n",
      "-------------------------------------------------\n",
      "Tight voice\n",
      "My husband answers me with a very quiet \"tight voice\" when he is starting to get angry or annoyed by something. This usually happens when he is doing a chore he that will only benefit me, and that he has procrastinated for weeks to months on. If there is a chore that benefits himself it will be done instantly of course.\n",
      "\n",
      "When tight voice shows up I stop engaging with him at all and usually walk out of the room, as it might progress to some long winded rant, or \"black cloud\" behaviour.\n",
      "\n",
      "Wondering if this is common?\n",
      "-------------------------------------------------\n",
      "This week in \"Divorcing the Narc\"\n",
      "He talks so much s*** to me about getting a real estate agent in that I got one in even though the house is nowhere near ready because he's been systematically trashing it and making it my job to clean it as a way to punish me.  He's refusing to do anything. He will not lift a finger because I'm the one that wants the divorce and then when I called him on it, he said it's because he works too much. He was home all last night but he couldn't even clean his bedroom.... And because normally all he does is curse me out all night I've blocked him on my phones. So today, even though all I'm talking about is the divorce and getting the house ready and his current behavior he keeps saying \"keep it about the divorce\" \"I've already blocked both of your phones, if you keep it up I'll block you on here too\". \n",
      "\n",
      "It's insane. And we had to go with his real estate agent that his parents use so he could feel he can control things.... I'm leaving the bedroom so the agent can see what a pig he is...\n",
      "\n",
      "Also, I'm about ready to just get a restraining order and do the entire house myself. Can I get one if he hasn't been screaming at me like a nut for the past 2 days? He makes comments.... But it's not the walking around, screaming at the top of his lungs stuff he normally does... Or am I going to look like the bad guy?\n",
      "-------------------------------------------------\n",
      "Do narcissists know they're behavior is deplorable?\n",
      "My husband is extremely intelligent, and a very covert narcissist that has been methodically and diabolically manipulating, isolating, and gaslighting me with strategic triangulation for 15 years. Everyone thinks he is such a fantastic guy, but the truth is that he is pure evil at his core. I am planning to divorce him later this year. My question is, does he know that the way he's treated me throughout the course of our marriage is not normal, and in fact extremely toxic/abusive?\n",
      "He'll never admit any wrongdoing, so I have no idea what he thinks about his own behavior.\n",
      "-------------------------------------------------\n",
      "NarcAbuseAndDivorce\n",
      "Today\n",
      "A few weeks ago my NEX (and his wretched fiancé) made motions for a change of timeshare from 70/30 to 50/50 for my 3 kids. I made my counter motions (asking for an anger management assessment is the big one!) and today the judge reads everything and will make a decision. \n",
      "\n",
      "I am praying/hoping/begging any higher power in the heavens that the judge rules in favor of this anger management assessment. This will delay the 50/50 and hopefully get him to show his true colors over time....\n",
      "\n",
      "Even though this is a delay more than anything (my state is a 50/50 state) I’ll take it! \n",
      "\n",
      "NEX wanted nothing to do with his kids until his fiancé has pushed and pushed. A fiancé who is mentioned more in his legal motions than his own children. Motions filled with lies, hurts, and untruths about me and the kids. It shows how out of touch be truly is as a father...\n",
      "\n",
      "My kids do not want 50/50. He had asked them several times before and they said no profusely. He claims this is what’s best for the kids...\n",
      "\n",
      "If you are the praying or good vibe kind...I would appreciate it all today!\n",
      "-------------------------------------------------\n",
      "Trying to make it through.\n",
      "(Trigger warning for mention of infant loss)\n",
      "\n",
      "\n",
      "\n",
      "\n",
      "Me and nex have been broken up for 6 months. Never married have three kids (1 and 7 and a would be 2 year old that passed away). \n",
      "\n",
      "\n",
      "\n",
      "\n",
      "It took me a bit to realize how my ex truly was even after he left, I was so dependent and sure that I wouldn’t be able to survive without him, once the fog lifted and I was talking to my therapist about how I didn’t need to use my anti anxiety much anymore it kind of clicked. What’s changed? Nothing besides he’s gone. I was able to find a job I love and luckily the friends I had before him that he wouldn’t let me see welcomed me back with open arms. \n",
      "\n",
      "I feel lucky for that but days like this make me feel like I’m back to square one. I am just so sick of the emails texts etc. the latest of them he’s attacking me as a parent, blaming me for our daughters death and trying to deconstruct a recent motion me and my attorney had to file after he almost got our oldest daughter kicked off a special ed program for not taking her to school on his time.  The part that got me was about our child that passed, usually I’m pretty good at ignoring his crap but this got me I thought maybe just maybe now that we’re not together, and the court ordered he only talk to me about our living children’s health welfare and school stuff that he stop vocalizing his blame for me. When we were together it was so bad I didn’t even really get a chance to grieve. I finally got that and I guess I’m still going through the motions with it. \n",
      "\n",
      "In January we will have another hearing and I’m terrified that just like last time I’ll be so broken and scared that I’ll just give in, but I need to be strong for my oldest she needs these therapies and I cannot allow him to screw it up. I know what he’s doing, he’s bringing up anything and everything he can to try to get me to think he will bring it up in court so I’ll just drop the whole thing, and honestly even though my daughters death was ruled sids and they found no one at fault, I’m terrified he will. Im even more terrified someone will believe him.\n",
      "-------------------------------------------------\n",
      "Anyone’s Ex-narc frequently give up their parenting time?\n",
      "My ex-wife (NPD diagnosed) and I (girls age 8 and 3) have a 50/50 custody agreement. She frequently gives up parenting time that is hers. For example, out of the 14 days of vacation my girls have right now, I have them for 10 days - this was her choice. It’s not the first time it’s happened either and not just vacations. They are with me about 60-70% of the time.\n",
      "\n",
      "I love it - don’t get me wrong - and I think my girls are better off with me then being exposed to their mother’s behavior. However, they are little girls and they miss their mom sometimes.\n",
      "\n",
      "Does anyone else experience this?\n",
      "-------------------------------------------------\n",
      "Ex Refusing to Co-Parent\n",
      "Recently my ex asked me for an annulment (catholic) and I have no objection to it, however I declined to sign an incredibly vague form that I received from the church. He can still get this annulment without my signature, or participation. However, he has recently gone on a rampage regarding this. He hasn't been responding to any of my texts (sick kids, co-pays, medicines, etc.) and our oldest is graduating high school in a few months. She has been excitedly planning her party recently and called him to figure exactly who to invite from his side of the family. He then told her that he is never speaking to me again, he has blocked my number and he will not be coming to the graduation party that previously he had agreed to. She is obviously upset, I am concerned for her and whatever relationship she really is going to be able to have with her father in the future. I also am not sure how to navigate with the lack of coparenting (youngest is 13). Just looking for anyone who has experienced things like this from their nex?\n",
      "-------------------------------------------------\n",
      "Parental alienation\n",
      "I met a woman and after two months of dating she got pregnant. She became cold and distant and asked me to set her up in an apartment and said I didn't need to help with the child. I refused on both accounts and asked her to marry me (we didn't actually get married but I bought her a ring and we had a date set). We lived together for 15 months total. When the child was born she shut me out of the child's life. She was constantly paranoid I was doing something wrong that would hurt him on accident or on purpose and even accused me of sexual abuse. She was constantly driving a wedge between us where I would pick him up and she would take him from me. She then accused me of not being in my son's life. Our couple's counselor advised me to take my son and file a restraining order against her because she was abusive to me and chronically suicidal. She also very narcissistic. She constantly gaslit me and agreeing with her wouldn't even end a fight because she would say I was placating her. \n",
      "\n",
      "She started calling the police on me for no reason and telling them I was abusive. They filed reports that there was no evidence because nothing had happened. She asked me to buy her a new Iwatch and iphone and the day they arrived she kidnapped my son. I didn't see him for four months. She let me see him for twenty minutes. I started to cry and she said \"Don't upset the baby\" although she later denied saying it only to say she did say it but not the way I framed it but she still agreed she has asked me not to cry in a situation where it was very warranted. \n",
      "\n",
      "After eight months of almost no contact she failed to go to court and I was awarded 50/50 parenting and decision making. She the filed a restraining order against me and a FAPA order. Suddenly I was dangerous to her and the baby. The judge got so mad at her that he threatened to lock her up if she didn't stop interrupting him. It was thrown out.\n",
      "\n",
      "CPS asked me to take him from her and then when it came to supporting me in court they said something very noncommittal about whether I should have him full time. She is very emotionally manipulative and every hand off she either makes a big production like she is sending him off to war or cusses me out. Both make our now two year old cry. She then claims it is because he doesn't want to go with me. She has reported me to CPS for every fall that results in a bruise and our child is very active and not very coordinated yet. \n",
      "\n",
      "Essentially she is trying to alienate me from the child and I get the impression her plan from the beginning was to have the child and hope I would walk away. Now she is just trying to get me to go away and to alienate my child from me. He is starting to talk and I have read stories where the Narc parent talks the child into cutting off contact with the other parent and I am terrified. Anyone have any advice? We never leave court and it is crippling me financially. She wants me to have no contact or supervised visitation. I believe that she is mentally unstable and should have supervised visitation. I don't even want to be a single parent I just want what is best for my son. Any advice would be appreciated.\n",
      "-------------------------------------------------\n",
      "domesticviolence\n",
      "very fresh.\n",
      "finally a temporary restraining order against my ex tomorrow morning. why is this so hard? he was physically, mentally & emotionally abusive I should want him out of my life but for some reason I feel so sad that I have to do this. TIA for anyone who takes the time to give me advice or some words of encouragement 🫶🏼\n",
      "-------------------------------------------------\n",
      "My ex is appealing my protection order\n",
      "In June, I (23F) got a protection order against my ex (26M) which will last a year. It was one of the hardest things I ever had to do and he still continues to make my life hell due to a shared business. \n",
      "\n",
      "Now, he’s officially appealed my protection order and I have 3 weeks to respond. I’m behind exhausted and stressed. I can’t get through 2 pages of his 30+ page long brief without having a breakdown. I want to give up, but I’m so scared of the consequences if he has access to me again. \n",
      "\n",
      "Has anyone gone through this before?\n",
      "-------------------------------------------------\n",
      "Subpoenaed, so when will I be assigned a DA?\n",
      "I have a 3yr PFA against my ex, he violated it 15+ times (texts, phone calls, voicemails etc) while it was still ex parte. \n",
      "\n",
      "The state pressed charges back in July and he was finally arrested on the warrant when his new girlfriend filed for her own PFA at the end of October. \n",
      "\n",
      "Although he was arrested on my warrant when he was served with her PFA, she tells me he had received notice of the warrant in the mail back in September, and had been avoiding arrest since then. \n",
      "\n",
      "Anyway. Trial is set for Dec 1st, so less than 3 weeks away. I received the subpoena in the mail today but have not been contacted by, or assigned a DA yet. I am obviously the only witness so the case cannot go forward without my testimony, which I fully intend to give since it was like pulling teeth to get them to issue a warrant in the first place, of course. \n",
      "\n",
      "Does anyone know when the DA should reach out to me? Will it be after I return the subpoena by mail, confirming I’ll attend? \n",
      "\n",
      "My PFA lawyer told me it would be at least 6 months after his arrest that they’d set the trial date, so I was totally unprepared for the turnaround time to be so fast. I feel like 2 1/2 weeks isn’t nearly enough time to prepare… not in the practical sense OR emotionally. \n",
      "\n",
      "There is also papers about restitution, but I don’t trust the system for obvious reasons and some of the questions feel like a trick. For example, if I seek financial compensation for my psychiatrist or therapist, they’ll use it to paint me as unstable. \n",
      "\n",
      "And in terms of the victim impact statement, do I have to read that out loud in the courtroom? I want to write it, and I want to be honest in it, but I know he’ll get a disgusting kick out of knowing the wreckage he made of my life, and my mental health. I feel sick at the idea of him having that satisfaction. \n",
      "\n",
      "I am terrified of seeing this man irl again. It will be the first time since I left him over a year ago. Idk how to prepare for this in such a short amount of time.\n",
      "-------------------------------------------------\n",
      "What do you do when your fiance tells you things like \"I litterally cannot live without you?\n",
      "So I'm a 24F and I've been with my fiance, who's 34, for a little over a year. In the beginning of our relationship, I thought things were okay, they weren't great, we both came into thi relationship with our own issues. However, we've made it work for us for this long. There's just an issue I've been noticing. Some of the parts of him that I chalked up to being a trauma response, being older or just his mental illness, are now turning into a giant red flag.\n",
      "\n",
      "To try to shorten this pose, I'll give you some highlights: Getting very upset over the slightest issue or inconvenience to him, often taking his frustration and anger out on me in the form of lectures for hours. Usually end up in tears and feeling like shit afterward. Then he would apologize and do everything he could to make it up to me. Usually happens a few times or more in a week. With tat said, he tends to screech like a banshee at his absolute worst, but usually his voice is very elevated, he gets very insulting and blames me for a lot of shit, even when he tells me it's never my fault.\n",
      "\n",
      "He also has this mentality of \"It's okay for me to do X to you, but if you do the same thing to me then you're the piece of shit.\" for example, him not paying attention to anything you say or have going on, will get upset if you do the exact same thing to him.\n",
      "\n",
      "Blaming me for his health declining or him neglecting himself because he \"had to take care of me\"\n",
      "\n",
      "Insists that he do everything for me, then turns around and gets mad that I'm not doing anything.\n",
      "\n",
      "&#x200B;\n",
      "\n",
      "These are only some of the things he does that at this point are making me rethink this whole thing, but I can't leave. He won't exactly let me\n",
      "\n",
      "See, I've kinda tried breaking things off gently and all that, simply, he didn't, and still isn't, taking it well.\n",
      "\n",
      "He's told me \"The only way you will be rid of me is by your own hand.\" Trying to hand me his switchblade, when I would refuse he would insist. When I would tell him \"No, I can't do that to you.\" He literally told me that I'm stuck with him then. Now it's been two days and he's been acting weird, trying everything he could to convince me to stay. First, it was insulting, like how no one would want someone like me, that I wouldn't find anyone like him. Then it turned to saying that we couldn't afford anything separately, he'd be homeless and have nowhere to go, no friends or family to go to, and so on. Then the knife stuff. Now it's stuff like \"I can't live in a world without you, not even as a friend.\" \n",
      "\n",
      "He didn't explicitly say it, but I'm getting the indication that if I were to leave, he wouldn't be alive long after.\n",
      "\n",
      "And now, now I'm fucking terrified, yeah he's never hit me, but the thought of him dead because of me is something I cannot handle. Ive already have too much trauma from all my other abusive relationships all throughout my life. I've already talked to a caseworker about moving out, but I have to wait until the lease is done in May.\n",
      "\n",
      "I need help, how do I make it the next two months here? What do I do when the time comes to leave? He's already more attached to me than usual. I don't get a lot of time to myself.\n",
      "\n",
      "&#x200B;\n",
      "\n",
      "&#x200B;\n",
      "\n",
      "&#x200B;\n",
      "-------------------------------------------------\n",
      "My oldest friend beat up my best friend\n",
      "**Backstory**  \n",
      "Over the past thirteen months, I made a new friend. Let's call her **Olivia** (25 F). She met me when I was in my sixth month of losing against depression, jolted me out of my head by giving a shit, struck up a conversation, and we discovered she was dating an old school chum of mine, *nom de guerre* **Michael** (25 M), whom I first was acquainted with in kindergarten. We all hung out at her place, and for a couple months, things were great. We would hang out, play board games or cards, watch movies or television, listen to music, go out to dinner or an arboretum; standard friend stuff. Over the first few months, Olivia and I became each other's best friends, by simply being in similar places regarding depression, recognizing when we needed each other's support, and caring.\n",
      "\n",
      "\n",
      "Things weren't always perfect. Olivia and Michael broke up almost half a dozen times, generally with either Michael screaming at Olivia or Olivia crying alone after getting frustrated with him and deliberately pushing Michael away. Both threatened suicide to the other after at least one of these breakups. While I never physically witnessed any of these encounters, I spent time with both parties in the aftermath, offering an ear to hear. Despite time and again of \"being completely done with him/her\" and \"wouldn't piss on her/him if they were on fire,\" they got back together again and again.\n",
      "\n",
      "\n",
      "We hung out about a week ago. Things had been stable for more than a month, and there were no obvious problems. From noon to midnight, we chilled, listening to music and watching a movie, going out to dinner, and having a lovely and fantastic time.\n",
      "\n",
      "\n",
      "**Incident**  \n",
      "The next day, I received word that Michael had beat Olivia, then thrown her across the room and into/through a glass cabinet. He continued to beat her while she lay in broken glass, screaming and begging for him to stop. At one point, he even paused, left the room, and then returned to continue beating her. Bruised face, chest, arms, legs, and many small cuts is what she ended up with; nothing broken, and nothing physically permanent.\n",
      "\n",
      "\n",
      "Michael eventually left, and Olivia called an ex-boyfriend of hers. She hadn't planned on pressing charges (stupid, in my opinion), but Michael combined his reprehensible behavior with stupidity, and turned himself in to the police, confessed to beating Olivia (saying he thought he killed her), and then continued to be a moron by cooperating with the police and kept talking without a lawyer present. \n",
      "\n",
      "\n",
      "He spent a night in county jail before getting out, and then posted a status amounting to \"Our legal system is a joke, fuck the police\" on social media. There was an outpouring of affection and concern from all of his friends and family, wondering what had happened. He replied \"It's a long story I'd rather not get into, but I was involved in an incident a few days ago and spent the night in county jail. It was a mess, and when I told the police exactly what happened, even though I was fully honest and entirely cooperative, they treated me like a dog and changed parts of my story to make me out to seem like a criminal.\"\n",
      "\n",
      "\n",
      "Me, I'm furious with him. He's worse than a dog, and he doesn't *seem* like a criminal, he *is* a criminal. I spent time with the bruised and lacerated Olivia, who I think is finally done with him (her landlord has forbidden Michael's presence), but Olivia is still concerned about what's going to happen with him. I, on the other hand, am discarding twenty years of shallow friendship given the true face Michael revealed to Olivia. I no longer shake with rage, and am not planning any retaliation. With Michael, I'm angry, disappointed, and sad. I would like to see him punished, but I'll wait for the legal system to work. I am considering sitting down with Michael over coffee or beers, just to hear the line of reasoning that turns what I thought was a man into woman-thrashing scum, and because it's a way for Olivia to know what's going to happen with Michael.\n",
      "\n",
      "\n",
      "**TL;DR: Acquaintance of 20 years beats up friend of 13 months; I'm still picking up the pieces.**\n",
      "-------------------------------------------------\n",
      "abusesurvivors\n",
      "I tried to make amends . was mistake\n",
      "..........went through hell with my ex-husband a lil back story as short as I can get it is. He was just a pot head, he'd yell at me and throw things at me if he didn't have weed . After 5 years of marriage my dad gave him 35k for a nail salon to open he's Vietnamese and does nails. Well to make a long story short . He hired a guy from Florida for addicted to meth and cocaine and Molly so I turned my own buissness into the state board bc it was filthy and the drug addict employee didn't have a nail license,he knew I was the one who turned out own shop in  he got tons of fines, took off with the guy to Florida left me with nothing..came back 3 months later sold shop behind my back gave me a whole 1200 , never paid my dad back this was back in 2015, stole my dog gave it to some Vietnamese owner of another nail salon,but I did get her back. She's my service dog. When he stole her and left I called around to every motel and found him but they wouldn't give me his room number so I had no choice but call the cops well he opened the door and they seen drugs he got arrested. I felt bad after a week bailed him out . Got a job as a direct care professional while I was stuck w him at the apt . He spray painted all my clothes and hit me in head with a ashtray, threw it bc he always threw things at me. I made his mom find him somewhere to go.   I had to get 8 stitches in my head. I'm remarried to a new guy he's amazing but I dwell on the past . He's got a gf and a 2 yr old so I thought maybe after all this time maybe he changed but no we was kinda txtn friends and meet here and there for 5mins a couple times a month but all he wanted was money and stuff. I bought his kid clothes,him clothes all kinds of stuff online that he said he'd pay me back for . He never did. Bc of covid his parents couldn't get back Vietnam so he said they was mooches and he didn't have anything giving me a pitty party Id take Boxs of food out and leave on his stairs a turkey for Christmas etc all kinds of stuff... But I caught on around Xmas and stopped meeting him for a whole 5mins to bring him a red bull he'd ask me to pick up   and pay me back he never did . Lol. After I stopped meeting him and giving him stuff he met a new friend at the nail salon the guy looked like a tweeker I met him 5mins and he didn't know I was the ex wife so as soon as he left stuff went bad he gave my number out they trolled me so bad. They'd txt my sister from fake numbers and would tell me to txt em. So I ended up changing my number technically 3x. I been mad all week and been leaving bad reviews and pics of his mugshots at the shop he works at saying he's a crack addict and will cut someone and they'll get a bad infection and it'll be there fault and as soon as 20 ppl see it they take it down smh . I think that's what makes me mad they think it's some great guy that does there nails and he's a manipulative, explosive bipolar disorder nut case . If anyone wants to see my head where he hit me message me I got a pic of it still . He threatened to lie and tell my husband stuff . Txtd me from 100 texting apps him and his friends at work smh . Said he'd tell my husband stuff if I didn't give him money and then after I said that's blackmail extortion he quit txtn and left me alone bc that's a felony. That was 3 weeks ago. I already suffer from so many disorders and anxiety he made the last 3 months hell. But everything was good till he met a new guy friend at work. So we managed be friends 7 months and then it all went crazy . I just didn't wanna go my whole life with no closure hating him I just wanted amends. I feel bad for his new gf and kid tbh smh.. sorry so long\n",
      "-------------------------------------------------\n",
      "My previous abusive relationship still affects my current relationship four years later\n",
      "Picture this: We got together when I was 16. He treated me like royalty, we were together for a year and a month, then things changed. He started trying to control me. He had little body language cues that conveyed to me that he wanted me to come where he was or something. I didn’t always listen. One day, we started arguing. We never argued, but it happened. We were doing volunteer work, he got upset about something, he quit, I tried to get him to come back but he refused to answer my calls. Eventually he stormed into the building, and screamed, “You! Me! Outside now!” I stepped forward, but a woman who works in domestic abuse said, “She’s not going anywhere with you!” So I stayed with her, he stormed out, and left. \n",
      "\n",
      "Months after we stayed in contact. He tried to convince me he killed baby birds to scare me away by sending me pictures of an empty bird nest. He told me he was going to commit suicide, and he gaslit me, and if I’m honest, I don’t remember it all.\n",
      "\n",
      "To summarize, he suddenly flipped a switch and mentally and emotionally abused me.\n",
      "\n",
      "He’s long gone, we don’t talk. The last time we talked was last year, where he told me he has no hard feelings and stuff and wanted to talk. I’m not even sure if he knew what he was doing as his relationships with his family were really fucked up. He never apologized.\n",
      "\n",
      "Now in my current relationship of three years, I find myself sometimes biting my boyfriends balls off because he triggered me unintentionally. My most recent one that I remember was my boyfriend saying that he didn’t want me to dye my hair. I tore into him saying, “You know what? I can’t handle this shit. This really shows I’m dating a boy, not a man, because you don’t get to control me and I won’t deal with this.” I hung up the call, and he apologized and said he was joking and I could do whatever I wanted with my hair. I wanted to cry, I said sorry and he immediately said it was okay. I didn’t even know it was a trigger.\n",
      "\n",
      "My boyfriend and I are also into BDSM, and while I am a submissive, I sometimes can’t submit as I find myself thinking, “Why am I submitting to him? Why am I listening to him? I shouldn’t be doing this, this isn’t good.” My ex never abused me sexually, but I think this is from the gaslighting and other stuff, even though I still enjoy my sex life, thankfully. \n",
      "\n",
      "I talked to my therapist, and she said that I should remind myself that we’ve been together for 3yrs and he’s not going to flip a switch and I need to remember that when these triggers happen, to recognize them, but remember they are in the past.\n",
      "\n",
      "What else can I do to move on from my past? How do I not let this infiltrate my relationship anymore or interfere with my sex life? Thank you, any advice would be welcome.\n",
      "-------------------------------------------------\n",
      "Male abuse victims\n",
      "Hello, I'm new here. I wanted to sort of vent about my own experiences a bit and reach out to other abuse survivors because the area in which I live still operates, to a degree, under the mentality of \"men can't be abused.\" There are no support groups outside of my church which are able to help with this but I feel a need to connect with someone, anyone, who understands what I have been and am still in many ways going through.\n",
      "\n",
      "In the middle of October I left my abusive home, after a 13 year long relationship that was abusive from day one. The abuse was almost never physical, but was frequent, nearly constant. Name calling, negative contrasting, belittling, gaslighting, financial abuse, infidelity, public shaming, DARVO, mocking, love bombing (this one was especially dangerous for me, as I am very sensitive and stupid enough to trust and forgive anyone for anything) making fun of me for crying when my brother committed suicide, I could go on and on and give hundreds of examples. But as a man, I'm not \"supposed\" to have this problem. I've gone to attorneys about this who rolled their eyes at me and said \"get over it.\" Police officers have laughed at me for coming to them with my issues. I've had people look me in the eye and say \"you weren't abused\" as if they knew what happened daily in my home more than I did. \n",
      "\n",
      "Much of this has happened in front of and occasionally to my son as well, who is still under age five and who I am going to have to fight a terrible custody battle for. I struggle often with symptoms of PTSD and OCD. I have no friends that I socialize with outside of work or church, and since I work at home that means my only interactions with other adults are once or twice a week. I was estranged from my parents for the past four years until just a couple of weeks ago. My own sister has also emotionally abused me.\n",
      "\n",
      "The only thing that has truly helped me through this so far is finding God again, and strengthening that relationship. I am lucky to have even that. I try my best to give my fears and anxieties to God as His Word says, and it's getting easier, but I still want to connect with other people. So I come here to ask for wisdom, and guidance, and help, and possibly to give what little I can offer to others who are in pain. Who know what it is like to be afraid all day and all night. Who know what it means to panic just because you heard the voice of a certain person, or a woman laughing too loudly. \n",
      "\n",
      "If I could give one piece of advice to anyone in an abusive relationship other than \"leave as quickly as you can as soon as it is safe for you to do so\" then it would simply be \"do not play the game your abuser wants you to play; they delight in pushing you until you do something bad that they can use against you. If they hit you, do not hit them back; if they call you names, do not call them names back. Do not let them make you do what they do, because nothing makes them happier than that kind of control and power over you.\"\n",
      "-------------------------------------------------\n",
      "I (25F) was groomed by my mentor at work (37M)\n",
      "I'm still trying to understand how this could be true. I thought the word grooming only applied to victims under 18, but my therapist is helping me learn and understand. I'm an adult, so I feel like I should have known better than to be deceived like I was. By the end, he had complete and total control over my emotions. I struggle with imposter syndrome at work, feeling like I was only hired because of minority hiring initiatives, and being quick to tell myself that I'm not really qualified. But he is the one who helped me through those thoughts. He helped me see that my only true weakness is lack of confidence.\n",
      "\n",
      "So I trusted him completely and we became good friends which lasted for several months. But then I found out he had always had a crush on me. I had no idea. Later he would tell me that he fell in love with me during our very first conversation, when I was still an intern. He made me feel so special, and I fell in love with that feeling. He shared his own insecurities with me and I helped him. I loved that I could help him how he had helped me. I loved feeling that emotional connection with him.\n",
      "\n",
      "When he made me uncomfortable physically, I would ignore the feeling. I didn't want to ruin the relationship by making him feel bad, so I let it continue. I tried to communicate my boundaries to him, and he pretended to respect me.\n",
      "\n",
      "I forgot to mention that he's married. And he has a 2-year-old daughter.\n",
      "\n",
      "He always wanted more from me. He was always testing the waters with me, under the guise of being honest with me and telling me how he feels. He coerced me emotionally to reciprocate his feelings. It is the most confusing thing I've ever experienced. Everything was in secrecy as well. \n",
      "\n",
      "The crazy thing is, he really didn't realize he was doing it. He didn't realize he was controlling and changing my emotions. He didn't realize that I had totally lost sight of myself and my own identity. He is narcissistic. He suffered through his own childhood trauma, and his defense mechanism was to do whatever it takes to make himself feel good. Always. And that's still what he does. His own feelings are always first. He needs other people to help him feel good about himself and tell him he's a good person. And I provided that for him.\n",
      "\n",
      "But at the end, he sexually abused me. Without a doubt. Because of my religious beliefs, I'm waiting until marriage to have sex. And he knew that. But he thought he was entitled to try anyway. And something in his sick twisted mind let him think that it would be ok to try to have sex with me without explicitly asking first. He somehow thought I wouldn't be upset. He saw my boundaries as challenges...walls to be broken down. \n",
      "\n",
      "He is a manipulator. Other people's emotions are like putty to him. He uses emotional appeals to make people want to help him and want to be nice to him. As soon as he realizes he can't control how someone sees him or feels about him, he has very strong emotional reactions. He turns to other indirect methods of control. He'll start damaging that person's reputation in very subtle ways. Ways that he can't easily be called out for. He'll start turning other people in the office against the person that made him feel bad.\n",
      "\n",
      "He is an abuser because he was abused and he never properly dealt with it. And that is not my fault. I had every reason to trust him, and it's not my fault that I couldn't see the patterns that would have revealed his true character.\n",
      "\n",
      "Thank you for letting me share. Supportive comments would be greatly appreciated.\n",
      "-------------------------------------------------\n",
      "Dating after narcissist abuse\n",
      "I want so badly to date and be comfortable after the relationship I just escaped from but I am just not even comfortable with the thought of someone having control over me at all. it's so stressful how the relationship dynamics work in our society! In nearly every relationship I've been in the man is the backbone or more dominant presents and therefore makes a good majority of the decisions. So now that dynamic really worries my subconscious. My new guy is really really having to work to earn my trust! Any thoughts about trust issues after narcissism?\n",
      "-------------------------------------------------\n",
      "relationship_advice\n",
      "My (26F) experience with bf (28M)\n",
      "\n",
      "My boyfriend and I broke up after 1 and a half years. After doing some reflecting I think what was most difficult in the relationship was the lack of depth in connection that I felt we had. I want to date someone who has suffered some type of trauma in their childhood or early adult hood in some way? \n",
      "\n",
      "I feel like while my ex bf and I were together we weren’t able to ever connect on a deeper level or build trust because he had never experienced any suffering growing up, maintained a pretty standard early twenties life, same friend group, no real struggle or tension in his life, parents love him/care for him unconditionally. For comparison my childhood was marked with taking care of my parents and creating a life for myself, being financially independent and taking care of my mental health consistently. He never really understood mental health like anxiety on a personal level and so never really understood me, at least that’s how I felt during the relationship. I felt it difficult to trust him as his family and friends were all quite surface level and never really spoke openly about struggles and emotions. \n",
      "\n",
      "Is this a valid desire to have while dating or am I silly for needing this? It seems weird to want your partner to suffer/have suffered? \n",
      "-------------------------------------------------\n",
      "I (20f) got ghosted by the guy I was seeing (23m) and I don’t know how to move on\n",
      "\n",
      "Me (20f) and the guy I was seeing (23m) for the past year were never officially together but we spent pretty much every second of our free time together, told each other we loved each other, slept together, met each others parents and friends, etc (Crazy, i know lol). \n",
      "\n",
      "He basically completely ghosted me about two weeks ago and I am heartbroken. He basically texted me and told me he was having a hard time mentally and wanted to be alone and with his friends. He also said, “but it’s not like we’ll never talk again”.\n",
      "\n",
      "As much as this took me by surprise, as we were completely fine and happy just two days prior, I tried to keep my composure and just replied with a simple “Okay. I understand.” And i haven’t texted him since. \n",
      "\n",
      "It has now been a little over two weeks and I thought I was getting better until I decided to stalk his socials and now I feel like i’m back at where I started. Maybe I even feel worse than before. I don’t know.\n",
      "\n",
      "I noticed he started following this girl on Instagram and he’s been commenting on all of her posts and I feel like he has already found a replacement for me. I can’t wrap my head around it, I am so so hurt and so sad. I’m really trying to keep it together, to keep moving forward and I keep telling myself that none of this is my fault. But it’s like every time I close my eyes I just see him with this new girl and I can’t understand how it happened so quickly. \n",
      "I have so much love for him and even though we weren’t actually together, we talked about our future together all the time and I really felt like I had found the one for me. \n",
      "\n",
      "I have never had a boyfriend before but he was my first kiss, first person i’ve been intimate with, my first everything. \n",
      "\n",
      "Does anyone have any tips to stop stalking his socials? Other than blocking him of course, as I just don’t feel ready to do that yet. \n",
      "\n",
      "And does anyone have any tips on moving on in a healthy way? My friends suggested going on a dating app and finding someone else to talk to but that just doesn’t feel right to me.\n",
      "\n",
      "I would appreciate any advice, I’m dealing with feelings i’ve never felt before and am struggling a lot.\n",
      "\n",
      "Thanks ♡ \n",
      "-------------------------------------------------\n",
      "My bf  sort of cheated on me \n",
      "My bf m(26) and I f(23) have been together for 4 years now, we have been really solid, living together for 3 years. We communicate really well when we don’t agree on things and have supported eachother through really tough times. He is a really genuine and I do love him. However, I was going on his phone bc mine was dead to watch Netflix and I noticed a weird app, I clicked onto it and it was a chatting app. I saw one message with a girl and a video call that was 10 minutes. The messages between them were sexual. I saw he had the app for 3 months but the messages only lasted a day. I was devastated but decided to talk to him the next day.\n",
      "I talked to him and he basically said he has a porn addiction and felt awful for how he made me feel and would never physically cheat on me. I forgave him but told him that he needs to sort out the addiction and he needs to talk to me about these things and communicate.\n",
      "It’s been about two weeks and I feel like for the first maybe few days he was trying to make it up to me that he knew he fucked up. Today is valentines and we said we wouldn’t do anything special as we don’t see it as a big deal but I did say I wouldn’t mind flowers or chocolate but nothing too expensive a few days ago, but he came home with nothing. I know it seems materialistic but I honestly didn’t want anything expensive, just the thought. It just makes me feel unappreciated since the last few weeks I’ve been there for him if he’s having a rough time and would really do anything for him. I’ve just been crying the last half an hour..\n",
      "I just need some peace of mind\n",
      "How do I proceed??\n",
      "Feel free to ask questions\n",
      "-------------------------------------------------\n",
      "After a year, I still find myself  thinking about my abusive ex-partner  more than my current partner . When does this become a problem?\n",
      "I have just started dating a new partner this month, and I’m feeling concerned about how much I’ve been thinking about my ex-partner throughout.\n",
      "\n",
      "For context, my ex and I started dating last year during my first year of university. We dated from September until May. He was my first love, and I would describe it as very passionate and intense. It was a near-perfect whirlwind romance, and I began picturing a future with him pretty soon after we started dating. The relationship began to turn toxic around January, as he gradually became more and more jealous, controlling and angry. Eventually, he became emotionally abusive, with lots of hot-and-cold behaviour. When it was good, it was GREAT (the attention, the sex, etc.). But when it was bad, it was awful. But even though he was hurting me, it had come to a point where I couldn’t picture my life without him, so I was quick to forgive him. And ultimately, I’m ashamed to admit he was the one who cut off contact for good.\n",
      "\n",
      "The breakup took an extreme toll on me and I have been in therapy since. For months I was experiencing flashbacks to the abuse and became quite reckless to cope. Every time I tried to go on dates with someone new, it felt like I didn’t have nearly the same spark with them as I had with my ex. It has felt like a long grieving process, and I’m beginning to feel like it’s a little too long, and that I still am unable to be in a relationship. Which brings me to today.\n",
      "\n",
      "I met my new partner (19F) a couple months ago in class and we quickly developed a friendship. At some point I realized that I was interested in her, so I asked her to hang out, and the rest has been history. She is lovely. She’s so kind, she has a good sense of humour and she’s really beautiful, and I’m definitely attracted to her. However, I still find myself comparing the way I feel about her to the way that I felt about my ex. Here are the main differences: I don’t think about her constantly, I don’t want to be around her every minute of the day, I don’t fantasize about a future with her, I don’t feel as much excitement and nervousness around her. Another thing to note is that we have just begun to be sexually active, so the sex hasn’t been mind-blowing, and I hate to admit it, but I’ve found myself fantasizing about my ex at times.\n",
      "\n",
      "Should I be in this relationship? She is healthy and she doesn’t cause me stress, but I’m afraid that I am wasting her time, still hung up on an ex. I don’t know what to expect in terms of navigating relationships post-abuse, and I would love to hear from former victims in particular. Thank you.\n",
      "\n",
      "-------------------------------------------------\n",
      "24 F in a 9month relationship with 23M What does His response mean? \n",
      "TL;DR: we dated in middle school in 8th grade but I kinda ghosted him by moving. He was my first kiss, and first boyfriend. It was just middle school relationship where you texted and kissed one time. \n",
      "I moved so I kinda just ghosted him because I didn’t know how to handle breaking up as a kid. I wasn’t sure how to go about it, and I was upset about moving. \n",
      "\n",
      "\n",
      "\n",
      "Fast forward to June of 2023: we actually swiped on each other on tinder, went on dates. Turns out he is divorced and has two kids.\n",
      "We were texting everyday then 4 months later we had went on several dates and we started being with each other most of the week. Besides when he got his kids. \n",
      "Main issue/ \n",
      "\n",
      "We’ve been together 9 months now, and the past two months he’s been really distance I’ve seen him three times in the last two months and he’s went about 4weeks since he messaged me. \n",
      "He commented on one of my pictures on social media saying I’m beautiful, but hasn’t messaged me. \n",
      "I finally got the courage to ask today, \n",
      "I texted him “I’m not sure what’s going on? Are you okay you seem a little distant. Are you trying to break up? Are you going through something, I haven’t heard from you, and you haven’t came over. Is there something you want to tell me or talk about? Or are you wanting to break up with me? It’s weird how it’s went from us seeing each other 6 days out of the week to absolutely no communication or contact.”\n",
      "He ends up replying like 12 hours later. \n",
      "“ I have been going through a lot baby. And getting off work late. It’s just been stressful. And I’ve been depressed because of everything going on. I don’t want to break up with you, but if you need to that’s fine. I get I have been a shitty boyfriend and I’m so sorry for that, I really love you and I don’t want to drag you down with me. I hate that my mind is like this. I’m trying to get everything straightened out in my life but another speed bump keeps hitting me harder. I don’t know how much more I can take. I’m super sorry about all of this. “\n",
      "I’m a little confused because he didn’t go in detail. That’s literally all he sent. \n",
      "I’m starting to feel like I’m being ghosted or cheated on, and I can’t guess what is going on with him. \n",
      "I feel like no matter what he could still message me. I’m very confused. \n",
      "All I replied was “let me know if you need anything… “ \n",
      "I didn’t know what to say, but he’s left me on delivered for hours now. He was doing that before I even lead myself to message him.\n",
      "\n",
      "\n",
      "-------------------------------------------------\n",
      "survivinginfidelity\n",
      "Welp, there was a reason I felt anxious in my new relationship\n",
      "Original post: [https://www.reddit.com/r/survivinginfidelity/comments/1aiupwu/okay\\_so\\_how\\_are\\_we\\_supposed\\_to\\_love\\_again/?utm\\_source=share&utm\\_medium=web2x&context=3](https://www.reddit.com/r/survivinginfidelity/comments/1aiupwu/okay_so_how_are_we_supposed_to_love_again/?utm_source=share&utm_medium=web2x&context=3)\n",
      "\n",
      "I was struggling with my new boyfriend. To summarize, I left my husband this time last year because he cheated on me (its a wild story, I'm waiting for my divorce to finalize before sharing it). Since then I was dating a man (we were officially together for 5 months), and I kept feeling deeply unsettled. I thought it was because I wasn't ready. I kept pushing through, telling myself that I was just anxious because of what my ex husband did to me. I was going to therapy and communicating with him every step of the way so he felt comfortable and he knew I was doing what I needed to do to be with him. Turns out, my new boyfriend was cheating!! I got DMs from a girl a few days ago, so grateful for her. So, moral of the story is, if it doesn't feel right it isn't right. This gives me so much affirmation to trust how I feel, the body always knows. Our instincts are strong. I feel so grateful that I know this now and can fully move on before investing more time and derailing more of my healing for a loser. Obviously I haven't broken my patterns yet and I got into a relationship too soon. There's no fast track through this, and the only way to be ready for a good partner is to heal from a bad one.\n",
      "\n",
      "As a little aside, just for a sprinkle of woo-woo, on Monday I was driving home and I said out loud in my car \"please give me a sign that I'm on the right track. I feel so uncomfortable but I want to know I'm doing what I need to do to live my best life.\" When I got home and checked Instagram, I saw the receipts. Went straight to his house and calmly and confidently ended it. Bless!\n",
      "\n",
      "Stay safe out there, and faithful partners to you all 🙏 Happy Valentine's Day.\n",
      "-------------------------------------------------\n",
      "Screaming obscenities in my face.  R is officially over.  \n",
      "Welp R is over. It went well at first but got worse and worse.  \n",
      "\n",
      "Started with little dismissive comments, then blame shifting, then going to his ex wife telling false stories about how I was handling R, and the very final straw came when he started screaming obscenities and inch from my face.  A large man in the face of a small woman. \n",
      "\n",
      "This pattern is trending in a very dangerous direction.  I’m out.  \n",
      "-------------------------------------------------\n",
      "I feel like I’m drowning \n",
      "Together 7.5 years, from 18-26. My entire adult life. Found out he kissed a coworker a year ago and his hid and lied about it for a year. I felt uncomfortable with her but he gaslit me. He got a job elsewhere, and told me now because he felt it would make the separation easier for me. We were going to move together, but he says he didn’t want me to uproot my life with this unknown. I am devastated. I don’t know what to do or if I can do this. All I want is to take him back. But I know I can’t. How do I start to actually feel that way though? All I want is for this to have never happened, to go back a year ago. He says he hates himself, he loves me but I deserve better, he’s lost who he is, has no self esteem, and he feels like he’s holding me back. I don’t know how to move forward. All I want is for this to not be happening. I don’t know what to do. I don’t know how to do this. How do I get angry? How do I move forward? How do I exist with this pain?  How do I see him and not beg for him to not do this\n",
      "-------------------------------------------------\n",
      "I survived, by the skin of my teeth, it feels like some days\n",
      "**First, I'd like to start out with a TW:** there might be some minor details of non-consensual sexual acts in this - very long - post that might trigger some readers. Reader discretion is adviced. \n",
      "\n",
      "I just recently realized that I've never actually talked about my 'run in' with infidelity. I mean, yes I've said \"he cheated\", but no one knows my story. I never told anyone what it was like, this thing that changed who I was into who I am today. And it's not as simple as saying \"cheating changed me!\". No. Cheating  changed my relationship, the relationship that was after, is what changed me. The more I thought about this, the more I felt that I really need to let it out. Like, the feeling is urgent, like I might explode if I don't tell someone! Yes, therapy would undoubtedly be even better, but not easy to actually get access to a therapist, because of the welfare model in my country (unless you go private and pay through your nose for it, and I have four kids to feed).\n",
      "\n",
      "Alrighty then! \n",
      "\n",
      "So in hindsight, there were some early signs. You know, the usual; personal grooming, hiding his phone, bringing it everywhere (this was before internet on the phone was what it is today, no smartphones), etc.\n",
      "\n",
      "He started acting jealous, first questioning my wardrobe and makeup. Later, he started accusing me of cheating everytime I was away from home for more than 1-2 hrs. \"Hope that dick is good\", was the kind of texts I would receive when visiting my mother or aunt, without a kid in tow, and he'd constantly try to catch me in a lie.\n",
      "\n",
      "But it started small. I barely noticed it at first and when I did he'd apologize and blame on stress at work or whatever. There was always a somewhat reasonable excuse, and I trusted him and believed him. This is how my boundaries were pushed, just a tiny bit at a time, so I wasn't even aware when they eventually fell off the face of the Earth. \n",
      "\n",
      "It got really bad over time. He became *really* mean, petty and disrespectful, found fault in everything I did and just treated me with general disdain. He'd purposefully sabotage when I cleaned - like he'd actually go out of his way, refuse to take any responsibility around the house or regarding the kids. He started degrading me in sexual ways and this was NOT something that was a part of our normal sex life, and he'd put boogers in my hair when I slept (yes, you read that right). This abuse continued *well* past his physical affair - I didn't actually find out about the cheating until after I left him, about 10 years later. He also entertained multiple online affairs around this time and this continued throughout the years until the end. I'm sure he just plain hated me after a couple of years. That's certainly how it felt, despite him saying \"I love you\".\n",
      "\n",
      "Obviously, I'd stopped having sex with him long before it got this bad, because I didn't feel safe with him and I'd lost all sexual attraction, being treated like garbage. He didn't initiate sex either. He *would* touch, grope and try to have sex with me when I slept, though. But he went out of his way to try NOT to wake me up. I wasn't supposed to actually consent and participate. Do I need to mention how sleep depraved I was? He could do this ALL night and patiently wait till I fell properly asleep again, before trying again. And again. And again. Several nights in a row. I **loved** it when he spent the night somewhere else! Sleep torture is real, y'all! He was made very aware that his \"advances\" was unwelcome and he was kicked out of the bedroom. Physically, because I just lost it this one time and screamed and cried hysterically. But, still I woke up a few times with cold drying jizz left somewhere on me.\n",
      "\n",
      "It was hell, and it became my 'normal' for 2/3s of that 13 year long relationship. You'd never believe that we'd once been very happy and very much in love. \n",
      "\n",
      "After learning when that short affair actually took place (which btw coincided with the time I got unexpectedly pregnant with our 2nd child), I could clearly see the destruction his already abysmal, and yet still deteriorating, coping strategies and defence mechanisms had caused. One year after separation I was diagnosed with PTSD and depression. I'll probably be forever damaged to some extent, I still haven't been able to start or maintain a meaningful romantic connection, despite it being more than a handful of years since I dumped his ass. *This* is why one shouldn't make their first relationship the forever relationship. We met when we were 17, became young parents and had no prior experience of relationships, I didn't know any better. And I'm still paying for it.\n",
      "\n",
      "Wow. Congratulations, if you actually got all the way to the end of that, lol! Unfortunately, there's really no good way to Tl:dr all of that, so thank you so much for your time if you stuck to it.\n",
      "-------------------------------------------------\n",
      "Riding the waves of loss\n",
      "First time posting, so I apologize for any mistakes. I also am trying to keep this short, but feel like it will end up long anyways, so I apologize in advance. I hesitate to mark this as progress, since it's only been about a month since D-Day, but I am now coming out of the initial shock and burst of anger/despair that came along with it. I have been reading posts ever since the very first days of my relationship being over, and wish I had found this community sooner. I would have ended this relationship 4 years ago if that was the case. Being able to read these posts every day really helped in such a extraordinary way that I would not of originally expected. I don't have any social media, and I don't usually comment, but I want to say thank you to everyone who has posted and commented and has been in this community. It has been great to have you in my pocket every day, and just know I am here as well,  right along with you all, and rooting for every single one of you, truly and completely. \n",
      "\n",
      "As previously mentioned, I did not have any social media, which definitely tied into my \"downfall\". I also was easily convinced that i was the problem, and have a knack for trying to be as easy going as possible. I definitely blamed myself, in the begining. I do not count myself as naive, I am almost laughably wary of the whole world,  but I did trust my SO more than anyone in my life, and it was used against me. I naturally blamed myself in the begining for this mess, but I no longer do most days, which is also why I'm marking this as progress. \n",
      "\n",
      "I am posting now because of the waves of grief that are now setting in, and prompted me to reach out, even though it's very much out of my character. I went no contact after D-Day, and SO isn't even aware of how much I know. The last thing spoken between us was me saying I don't promise reconciliation even if they get their life in order, but they still said they were planning on it, because being with me is what they wanted. I  told them I was cutting contact, and to not expect anything. I was already moved in family by this point, and they were flying back to their residence.  I was so livid it was beyond anger. Betrayal does such a funny thing to ordinary anger. Its such a sick knife to the gut.\n",
      "\n",
      " Received a few phone calls in the days after that, but no follow up text or voice mail, so I ignored it. Received a text afterwards pretty much saying they can't believe I would end the relationship over one weekend, and one thing they did for themselves (I already made them aware the relationship was destroyed NOT because of one weekend, but all the actions leading up to the \"one weekend\" occuring) and telling me they are sorry I ever \"agreed\" (what an interesting choice of words, no?) to being this relationship and goodbye. I was promptly blocked. The time we talked previous to this message, they admitted to realizing how much they gaslit me and controlled me, and how much they messed up. I guess they had a talk with some people in their life and in the 5 days of no contact, the Clouds Of Delusion formed again and they went back to thinking they were the victim and did nothing wrong. I was not surprised by this, Clouds Of Delusion had been happening the whole relationship, but it was still surprising to see how quick they dropped me, the person they wanted to have a \"60+ year relationship\" with, the minute I refused to interact. \n",
      "\n",
      "This was also the first time I put my foot down, and refused to interact, so it was monumental for me. The exact thing I feared would happen, happened. The funny part is, I'm a usually very headstrong individual with everyone else. I had become unrecognizable in this relationship, and almost stayed, which is the frightening part. \n",
      "\n",
      "What I really want to say is yes, I am upset that I didn't stand up for myself sooner. I get upset with myself every time I check to see if they have messaged me, even though I don't want to speak to them. I get upset when I dream about them in the night, and then cannot get my act together throughout the day, and have to write the day off completely. I get upset with myself for being so trusting, so understanding, for so long.  And I'm sure many others here do as well. \n",
      "\n",
      "But you know what? You tried. You tried. You were dedicated, understanding, and loyal. You woke up every day committed to keeping a partnership stable and flourishing. That is more than THEY ever did. So please, the next time you feel a wave of sadness or anger or check their social media or beat yourself up for not noticing sooner, realize how much you kept your side of the relationship up, and if you can do that with a scheming, unfaithful person, realize how much you can do with someone who is as committed as you, romantic or otherwise. And yes, the act itself that has been done against you is beyond painful, but know we are all here anytime you need to talk, and we understand how you feel, and will sit with you until you feel ready to take another step forward. \n",
      " \n",
      "Thank you again for reading this long post, and thank you for being here now, and every day. I don't know where I would be without you all.\n",
      "-------------------------------------------------\n",
      "LifeAfterNarcissism\n",
      "left him \n",
      "so basically i left the narc a couple of months ago and he went crazy. jumped to his ex the same day we broke up while trying to hoover me. i didn't respond & he tried hoovering again after a month. tried contacting people i know. doesn't know where i live so he can't come. it's been 2 months since he's tried. does this mean i'm finally free now? and he's let go. He said he would ruin all my friendships and everything in my life but so far he hasn't done anything. could this all be a part of his plan to try and hoover again and convince me he's a nice person so i have nothing to use against him or is he just love bombing the new supply right now?\n",
      "-------------------------------------------------\n",
      "I’m finally learning to chill the hell out.\n",
      "My husband and I both come from n families so you can imagine how much we trigger each other. We went nc and a few years later I’m legit unwinding like I never have before. My husband is irritable bc his work schedule and instead of my getting irritable as well I’m like leave him the hell alone and just do your own thing. It feels amazing to be able to take someone else’s needs into consideration and not think it’s all about me all the time.\n",
      "\n",
      "\n",
      "-------------------------------------------------\n",
      "What reason they gave you for discard? I know it's will be BS but just wanted to know.\n",
      "\n",
      "The reason my nex gave me for cheating and breakup was that I didn't attend her birthday and I didn't pamper her as much she needed. The birthday thing is true and I wasn't able to go there as my mother was having a tumor surgery same day and my sister also was suffering from asthma and I also shared her the reports on same day of course. \n",
      "\n",
      "She just needed a reason to break up with me and she got one. I know you all have such reasons told by your nex. If you can share it would be great as it will provide an insight. \n",
      "\n",
      "Also she was cheating from 2 months with a guy behind my back at the same time so it was good that she got a reason.\n",
      "-------------------------------------------------\n",
      "Sometimes I feel “retreating” is weak\n",
      "Hi \n",
      "\n",
      "Broken up with by an N for a month. Have been trying to recover by meditating. I have deleted all social media apps. It has been a very good decision. I have some work ties with her so I have a lot of mutual work friends. I feel that eventually I will have to cut off some of them. I feel angry as she has been crazily commenting on FB (I kept Facebook messenger app and my colleagues circulated some posts) \n",
      "I really feel like she is attention seeking. And when I am really down I feel that my retreat (deleting social media app etc) is a defeat... \n",
      "\n",
      "It was a really brutal breakup...I am really grateful that my online search efforts landed me here. This place gives me a sense of support\n",
      "-------------------------------------------------\n",
      "Validation through understanding the possible causes\n",
      "I've posted here a few times (commented many times). I left my ex, who I think has covert narcissism, in early October last year. I was with him for almost 2 years.\n",
      "\n",
      "I'm not seeking advice or anything. I just wanted to share some thoughts. Of course, everyone is welcome to share their thoughts, experiences, insights, etc. :)\n",
      "\n",
      "I don't miss him at all. I feel peaceful and have been enjoying my life without him. It's truly liberating to go to places and do what I enjoy doing without him judging me, yelling at me, or otherwise trying to control me. I'm not plagued with a constant sense of insecurity or self-doubt. I'm surrounded by many good people now.\n",
      "\n",
      "One thing I have been regularly doing since the breakup is making sense of his behavior through potential diagnoses. I know he has severe OCD but his lack of impulse control, deception (lying, cheating), lack of remorse, strong sense of entitlement, paranoia, aggression, and disregard for rules have led me to think he has at least one Cluster B personality disorder or traits. I think it's NPD (covert) but it can be ASPD - they are similar but different.\n",
      "\n",
      "Regardless, understanding and reading about how both NPD and ASPD can lead to abuse has been validating to me. It's no secret that these personality traits can lead to abusive behavior, but I have had no one in my real life to validate this. He is very well put-together in public and very good at impression management, and is manipulative. I didn't have anyone on my side when I got out of this relationship. And I was an accomplice, in a way, defending his poor behavior.\n",
      "\n",
      "So, reading about what may have been going on and journaling my thoughts has been a positive experience where I can validate my experiences. I don't know how much longer I will be doing this, because at some point, there won't be any more thoughts to dig into in terms of this relationship. And that will be a good day for me.\n",
      "\n",
      "I hope you all are staying strong.\n",
      "-------------------------------------------------\n",
      "ToxicRelationships\n",
      "I left my narcissistic ex and I’ve never been happier.\n",
      "He has literally *diagnosed* NPD. Never again. \n",
      "\n",
      "My only regret is not leaving earlier. No, I have another one: apologizing when he depicted me as the bad guy in the relationship. Projecting. Manipulating. \n",
      "\n",
      "I have a list of things he’s done. But whatever. Just to name one:\n",
      "\n",
      "He pressured me into PDA and sex, guilt-tripping me to oblivion and back. He always got so upset when I called him out on his little manipulation tactics, that his pathetic attempts at accusing me of his own bullshit were tragicomical. I saw right through him and I stayed for a whole 5 MONTHS. I’m disappointed in myself for that alone. \n",
      "\n",
      "I am now physically repulsed by him. I am resentful, bitter and angry. I don’t want to ever see him again after tomorrow, when I give him his things. \n",
      "\n",
      "He can hate me all he wants after I tell him to fuck off, he’ll never hate me as much as he hates himself anyway. \n",
      "\n",
      "I’ve never moved on from someone so fast.\n",
      "\n",
      "My post history may contradict the fact that I’m happy, but I truly had an epiphany while writing these posts. BYE FELICIA. \n",
      "\n",
      "Fuck him!!! Good on me for leaving him!!!!\n",
      "-------------------------------------------------\n",
      "Am i the bad guy for doing this?\n",
      "Although this happened a few months ago, i will still like to share my story.\n",
      "Basically, i had gotten together with this guy back in July 2022. We had lots of good memories and loved each other, or so i thought.\n",
      "After a month of showering care and affection towards me, my boyfriend (currently ex) started hanging out with girls who liked him and worst thing is, he told me to relax and told me they were friends even though he knows they like him. He said that hes just playing them so i was a bit reassured. However, these hangouts were usally him and the 2 girls alone in his house doing whatsoever. I was a bit paranoid so i just went over to check. He was angry that i had came over and asked me to leave, threatening to leave me. I begged and cried to ask him to not leave, in the exchange of him to stop hanging around with those 2 girls. He agreed and dropped them. I thought this will be the end but a few weeks later, he hung around with a girl alone and i only caught them when they entered a classroom filled with no one. I was shocked and confronted him on the spot. Instead of being remorseful, he placed the blame on me for hanging out with my new friends who he actually known them. I was confused and hurt as he was in the wrong but blaming me instead. I just left them there and he texted me apology messages at night. I forgave him. Few months passed, the cycle continues. He had cheated on me twice but i was nice enough to give him chances, thinking he would change. But he did not. He eventually told me he wanted to break up and i cried, begging him to not leave. In the end, i decide to cut off contact with him and left my old friendgroup he was in (they also had caused harm towards me). 2 of my other friends also left the friend group together with me and im glad they did. After leaving, i finally realised my ex had manipulated and gaslighted me during our relationship, constantly blaming and threatening me. Im in a good relationship currently and according to my 2 friends, my ex went into depression after his new girlfriend left him and he is really regretful about whatever he did to me. I will never forgive him and thats final.\n",
      "-------------------------------------------------\n",
      "I’m an abusive girlfriend.\n",
      "My boyfriend almost broke up with me this morning. He said he couldn’t deal with my abuse anymore. When he left the call, as I was having a panic attack, I realized he was absolutely right about my toxic behavior. I never meant to hurt him emotionally and mentally but I did and that’s the problem. When I convinced him to talk to me, I begged him for just one more chance even though I never improved with the other chances he gave me because I didn’t realize all that I was doing wrong. But I do now, and I want to get better. I need help. What’s the first step to getting better? Are there any only groups I can join? How can I be a better girlfriend?\n",
      "-------------------------------------------------\n",
      "What’s the worst thing your ex has done?\n",
      "The list can go on and on cause I was so blinded by ‘love’ that I couldn’t see shit. So we met online and were in a long distance relationship (fyi I am a teenager and it’s my first ever relationship). This was an unexplored territory for me and I believed everything he said like a sorry ass puppy. Once he got really sick and was admitted to the hospital and he never told me what actually happened cause idk for some reason he liked to keep every personal detail a secret (which is like a HUGE HUGE red flag and I am obviously colour blind). Well anyways he writes poems so he sent me a poem. It was really bad handwriting and it was basically him saying that even tho his leg hurts and he can barely write he still needs me. Keep in mind that the last line had a word that I couldn’t understand which at the time I thought was my name. The line basically said …. I love you. Now STUPID, IDIOT, FUCKING DELUSIONAL ME thought ‘aww he’s so cute, even tho he is in pain he wrote me a poem’. I always told him how much that poem meant to me. \n",
      "Fast forward to a few months later when we were going through a rough patch (now that I think of it when were we not) and we were like breaking it off and then getting back together. We had made up from a fight which was about his ex. So I was really fucking insecure of him still being head over heels in love with her which he always denied and me being me believed it (at that time it was at its PEAK). He was sending me pictures from his gallery from the past. He would do it a lot idk why and most of the times it was something related to his ex. He sent me the poem and I just knew that this man does not even remember that he had once sent me this exact poem claiming that he wrote it for me. I casually asked ‘when did you write it?’ And he said ‘umm maybe 2020’…….we started dating at the end of 2022 and that was the year they had broken up. I knew it was over for that bitch so I started with ‘funny thing uk you sent it to me when you were in the hospital and said that it was for me but I remember us meeting in 2022 and not in 2020’. Well it turns out that the word which I thought was my name was actually a name he had for her, sort of like an inside joke idk. That day I realised how fucking blind I had been and that was the thing that fucking ensured that I won’t care about him anymore.\n",
      "Oh and through his friend I got to know that he is still in love with her…yay for me cause I ruined my boards for that fucker.\n",
      "-------------------------------------------------\n",
      "How do you tell the difference between a boyfriend who is depressed and one that is abusive/toxic?\n",
      "Im a 43 year old female, I have been in other bad relationships when I have been took advantage of in one way or another. Had to be a single parent most of my life (sometimes even when my partners where still living with me). \n",
      "\n",
      "I met a 38M just after Xmas this year, I thought my luck had changed, a very clever talented man who loved me without question, my depression lifted I felt on top of the world. \n",
      "\n",
      "He is going through a messy devorce with a toxic woman so he is also suffering with depression which didn't seem bad at first as he was so happy we met.\n",
      "\n",
      "He was very full on straight away, always wanting to be with me, which was becoming a little smothering as he always wanted me all to himself, and I was used to living alone. \n",
      "\n",
      "I work full time and look after 2 teenage boys so I have limited free time. He kept insisting that we should live together as we live an hours drive away from each other. I caved but he always managed twisted it like it was my idea. Every time I tried to back out due to past trauma and little red flags I was seeing, he began to cry called me selfish and accused me of not loving him. I was the reason he was doing so well and he needed me.\n",
      "\n",
      "Fast forward to slowly moving my stuff over while I'm living there with my son's.\n",
      "\n",
      "He has outbursts bring up personal things about past relationships and uses it to confirm how I was feeling was just down to  my past, my depression, and being unwell lately, it's not him being unreasonable.\n",
      "\n",
      "Because of all of the head butting lately I have become more distant, I don't want to kiss him or have sex with him as it feels so forced and I'm still exhausted and not well. He confronted me and says I'm destroying the relationship...But even if I'm not sat on the same couch as him he gets upset, I feel like I can't win, but he says he can't do anything right and he feels very unattractive because of my behaviour. \n",
      "\n",
      "I feel like shit, and his behaviour is pushing me further away. I feel sick at the thought of sleeping with him. Do I just need to be more supportive and just do it to make him feel better? I used to love being close to him.\n",
      "\n",
      "Can a relationship with 2 people who are depressed work? \n",
      "\n",
      "Sorry this is so long and may not read well. I'm not great at this kind of thing.\n",
      "-------------------------------------------------\n",
      "relationships\n",
      "Less contact from SO since we made it official\n",
      "TL;dr: New SO talking to me notably less since we made it official. \n",
      "\n",
      "Me (27) and my SO (24) just agreed to start dating last week. We’re long distance. We met in September and have spoken every day since then intense long conversations and I just came back from visiting him, which went extremely well and he said that he loves me and introduced me to his whole family. He’s put a huge amount of thought and energy into this from the start and has been generally great. But since we agreed to make it official last week I’ve heard much less from him. We still speak every day but much more infrequently, he has less to say and conversation feels more bland. He rescheduled a date night thing three times. He’s ignoring some of my messages. I just feel like the whole tone has changed and there’s suddenly much more distance between us or will from his side to be in touch or close. \n",
      "\n",
      "I know this is extremely lame to post about this but I can’t help that it’s causing me a ridiculous amount of anxiety and stress, having been feeling insanely happy and relaxed about the whole thing before, I don’t understand the sudden change of tune and I feel too negative within myself to ask, as it’s such early days to cause an issue and it will almost certainly come off in a way that will make him feel pressured which I don’t want, and he’s probably just busy.\n",
      "\n",
      "My worries are putting a label on it (which was something he asked to do incidentally) has stressed him or made him realise he’s not as into this as he thought, or now the ‘chase’ is over he doesn’t care as much… why pursue me and push for this so much if when it happens doesn’t want to spend much time with me. It’s like he’s suddenly decided to play it really cool at the weirdest moment. I’m just feeling super negative about it I recognise that it’s the most minor issue ever and with time / a simple conversation it will likely be resolved. But I’m not in the best place so would much appreciate anybody’s thoughts or perspective. \n",
      "\n",
      "Please be kind and I am aware that I’m overthinking this thanks so much to anyone who responds.\n",
      "-------------------------------------------------\n",
      "Everything I thought about myself is being challenged by a recent experience and I'm hungry for more. But a friend has reacted really negatively about this.\n",
      "\n",
      "\n",
      "I (27F) have been friends with \"Rick\" (29M) since college. He was finishing his Masters as I was finishing my Bachelors. We met at a party, he came onto me, but I shot him down. I always identified as lesbian, never had any interest in men at all. He took it very well and it was sort of like he befriended me immediately. We became really close friends quickly and remained so every since. \n",
      "\n",
      "\n",
      "We moved to the same city and roomed together in a 2 bedroom after graduating, before branching out independently. We take several weekend trips as friends every year, dine together several nights a week, do most of our shopping together. That is how things have been since I was 21. We've helped each other through breakups, been a shoulder to cry on, and have been really good friends. He always had very pretty girlfriends and some of them have had problems with me because of our friendship, and he always stood by our friendship no questions asked. He's been a constant source of good in my life and I have tried to be the same for him. It's been 5 years of constant laughter, sharing, friendship, and confidence. \n",
      "\n",
      "\n",
      "The short of it is that I accidentally walked in on him as he was stepping into a shower at a rental on a weekend trip. I had never seen a naked man in person before and we both frozen like deer in headlights. Since then I have struggled getting the mental picture of his naked body out of my mind. More specifically, I have been struggling with a very strong desire for him. \n",
      "\n",
      "\n",
      "Just after New Years I decided to act on it. We had been having dinner at his place and after we did the dishes, I brought up the trip incident and was honest with him about how it had made me feel. I brought him into his bedroom as he was asking if I thought this was a good idea but, I needed it. I needed to know. I had never experienced anything like sex with him before. \n",
      "\n",
      "\n",
      "Afterwards it was like we pretended nothing had changed between us. We kept that up for a few weeks but one random night we had sex again. It's been several weeks now and I daydream about him constantly. In the weeks since the first time we had sex, I first felt like I was betraying myself, then I felt really confused about who I thought I knew I was. But then I came to terms with the notion that the societal labels I had applied to myself in the past just don't matter and at the end of the day, where I desire this man or not, I am me and I am free to be me regardless of how \"me\" changes with time. I began trying to distract myself by dressing up nicer, spending more time on makeup and hair, and then I began wondering if I was doing all this to catch Rick's attention. \n",
      "\n",
      "\n",
      "I tried confiding in a female friend of mine, who grew very angry with me and hasn't spoken to me since. She (\"Leslie\" 28F) said some pretty harsh words to me. I think I'm in love with Rick. I think I may have been in love with him for a long time now and that the pool incident just opened my eyes to that fact that I am attracted to him. She said some things to me that I can't bring myself to repeat here but, they specifically disparaged any potential of me feeling anything more than friendship for Rick and suggested replacing Rick with a specific type of inanimate object used for gratification. She went as far as to accuse Rick of hypnotizing me and taking advantage of me. Yet I'm the one who came onto Rick, I'm the one who initiated both of our experiences, I'm the one who has been pursuing him. This was so upsetting that I've been crying every moment I'm alone for the last few days. \n",
      "\n",
      "\n",
      "I have no relationship history with Leslie whatsoever. She's just someone in the community who I had become friends with. Another friend thinks Leslie maybe has a thing for me but, I don't think that's the case as I am about as far from being Leslie's type as high noon is from midnight. \n",
      "\n",
      "\n",
      "Does anyone here have any insight to share about why Leslie may have reacted as she did? She's not responding to my calls and texts but she's been posting an awful lot about this without dropping any names on social media but, some friends are starting to catch on. I need to tell Rick my falling out with Leslie but, I don't want her hurtful words to chase him away. He's involved in this and I don't like how it feels not sharing something with him. We don't usually have drama like this in our lives and I don't know the best way of navigating it.  \n",
      "\n",
      "\n",
      "tl;dr: A friend of mine is reacting extremely poorly to news that I have become involved with my male best friend despite me having no past dating history with men, and has begun blowing up aspects of my life online. I don't know how to handle any of this.\n",
      "-------------------------------------------------\n",
      "I feel like a jerk for telling my husband I’m not necessarily attracted to him cross dressing.\n",
      "TL;DR: my husband likes to cross dress and I have to be in the mood for it but he is hurt by that. \n",
      "\n",
      "Me (29F) and my husband (28M) have been together since 2018 and have been married for 1 1/2 years. I was a virgin when we met but not naïve. Myself and him have always been into exploring and trying new things and I’ve always indulged in what he wanted to try. He’s gotten into cross dressing, pegging, CNC, ect. All things he enjoys me doing to him and I don’t mind doing these things it makes him happy he enjoys them. I’ve never said I find it “attractive” when hw dresses up I’ve said in many occasions I have to be into it. \n",
      "\n",
      "The other day I wake up from a four hour nap (I’m pregnant, I’m getting over being sick, my depression has been through the roof) and he’s dressed up and in some bdms gear. \n",
      "\n",
      "I admit I reacted by crying. I was exhausted I didn’t feel good I felt immediately pressured. He got upset and took it off. I told him he didn’t have to it was fine but the mood was lost for him.\n",
      "\n",
      "Couple hours later I asked what was wrong and he asked, “do you find me attractive?” I was honest I said, “yes, but I’m a masculine way. I have to be in a specific mood for the cross dressing.”\n",
      "\n",
      "He’s now really sad and not really talking to me. When I again asked what’s wrong he said, “you don’t want me in a fundamental way I need you to want me.”\n",
      "\n",
      "Idk if I could have done something differently or said something else. I do really love him and I hate I hurt him but was I suppose to lie? I’m an open minded person and I want to pleasure him in ways he finds pleasurable but I’m not always up for it and sometimes o wish we had a more traditional marriage…\n",
      "-------------------------------------------------\n",
      "Update: Ex-friend 34F asked me 35M about our relationship over 10 years ago.  How to respond?\n",
      "Link to original: https://www.reddit.com/r/relationships/comments/1bpk9wz/exfriend_34f_asked_me_35m_about_our_relationship/\n",
      "\n",
      "\n",
      "Thank you every one for responses.  I decided to listen to the majority and responded to Ex-Friend “A”.  The response was well received and we chatted the rest of the week and met up on the weekend before Easter.  The short of it is we’re both leaving our partners.  A and I are gonna try this relationship again now that we’ve completely opened up to each other about our true feelings.  Thank you all for the encouragement to do this.  Couldn’t have done it without you.\n",
      "\n",
      "\n",
      "\n",
      "\n",
      "\n",
      "April fools.  I would never.  The real update is pretty anti climactic unfortunately.  I ended up just never responding to A.  It had already been 5 days by the time I read through every response and decided to just let it go.  My wife was fine with that but told me to block her if she messages again.  We did a couple Easter egg hunts with different family members yesterday including at my FILs.  They have a decent sized property and host quite a few people so I wasn’t surprised to see non-family members.  I was however surprised when A’s parents were there with her children.  After all the adults scattered and hid the eggs and the kids started their search A’s dad came over to chat with me, nothing out of the ordinary, and we shot the shit for a few minutes.  Towards the end I asked if the kids were staying with them for Easter and he basically told me A and her husband were having some troubles and they needed some time alone to sort things out.  He didn’t go into specifics so I don’t know exactly what “troubles” are but congratulations to those of you who called that one.  \n",
      "\n",
      "\n",
      "For now this should conclude the story.  If she does happen to reach out again and I feel it’s worth letting you all know what it says then I will.  Otherwise thanks again!\n",
      "\n",
      "TL;DR joke intro.  Saw ex-friends parents and her children at FILs Easter egg hunt.  Her and her husband are having troubles.\n",
      "-------------------------------------------------\n",
      "Difference between dating and talking phase (M20) and (F19)\n",
      "Hey all,\n",
      "\n",
      "I recently figured out that my gf before we officially in a relationship went to a club and kissed 3 guys in the same night. This was about 3 months into us talking everyday, going on dates around 1-2x per week, FaceTiming, me picking her up from work, driving her to all our dates, and buying her flowers.\n",
      "\n",
      "I know I never explicitly stated the word \"exclusive\", but am I wrong to feel hurt by this? The truth is I didn't even find out from her even when I asked her how her night went and if she did anything that night. Out mutual friend told me because she felt bad for me.\n",
      "\n",
      "Again, I never stated those words, but I always mentioned to her how much I like her and would like to keep seeing her. Not only that, but like texting consistently should mean that I am into you and that those feelings are somewhat reciprocated?\n",
      "\n",
      "She has done other things as well, like meeting with her ex behind my back for lunch to get her closure and lied to me about it so part of me is suspicious of her already. \n",
      "\n",
      "Keep in mind we are just into 3 months of dating. \n",
      "\n",
      "Tl;DR: Gf and I have been arguing over her kissing 3 guys in the club while 3 months into seeing each other consistently\n",
      "-------------------------------------------------\n",
      "Infidelity\n",
      "My ‘boyfriend’ (21M) cheated on his girlfriend (22F) with me (23F)\n",
      "  feel sick writing this. **My supposed ‘boyfriend’ was in a relationship with me for 3 months while he had another girlfriend.** Let me provide some context: I met the person who was my boyfriend in October of last year, and after a lot of lovebombing from his side, we started a relationship. From the beginning, I was very clear about my disdain for infidelity. At this point, he mentioned that he had recently ended a long-term relationship, which bothered me, but I thought it wouldn’t matter because he assured me it was over.\n",
      "  \n",
      "  \n",
      "  \n",
      "  e to the psychological abse, I suffered during October and part of November, I ended up hospitalized in a mental health facility. It was during this time that I discovered what I initially believed was an affair with his ex, but in reality, I was the other woman. Learning this destroyed me, especially considering my fragile mental state as I had been in the hospital for 2 or 3 days. Eventually, after two weeks in the mental health facility, we had a conversation where I chose to play the villain so that he would leave me alone. I knew that otherwise, his obsessive personality wouldn’t let me go.\n",
      "  \n",
      "  \n",
      "  \n",
      "  er the next two months, we had very little contact. He continued hoovering, and I kept telling him we needed to wait because I was afraid to reject him. During this time, we were separated due to the end-of-semester holidays, and I explicitly told him that if he got close to his ex again, he could forget about my existence.\n",
      "  \n",
      "  \n",
      "  \n",
      "  early, he didn’t care, because last night I found out that they were together during those 2 months, which means I was always the **OW**. Learning this ignited something within me. The next thing I knew, I was waiting for him to fall asleep (long story) so I could gather all the evidence of his double infidelity from his phone.\n",
      "  \n",
      "Before learning about the infidelity, I wanted Karma to take care of him. However, after discovering how he attempted to come back and hurt me and realizing that being unfaithful to me wasn’t enough, he made me do the same with him. Now, I seek revenge. I’ve already planned something to expose him in front of her and both of their families. I wish I could do worse to make him feel the pain of my betrayal.\n",
      "-------------------------------------------------\n",
      "I caught her in 4k. Have you caught your partner cheating on video?\n",
      "So long story short. My fiance worked in a lab within a warehouse I owned. The company she worked for was a separate company than my own but we operated under the same roof. \n",
      "\n",
      "I received a call from my mother (Co owner of the warehouse with myself) to look at the cameras at a certain time. To which I saw a recording of my fiance cheating on me with one of her bosses. Going threw a month of videos I compiled over 30gbs of 4k video of act of infidelity. \n",
      "\n",
      "I didn't do anything cool with the evidence. Simply saved them and showed it to whom ever asked. Also sent them to my fiance and her boss. I posted about all this in more detail before. Feel free to find it to understand the situation more. But I don't want to talk about my situation that much on this post. \n",
      "\n",
      "All this got me thinking. You know those cool videos in movies or on YouTube that people do to get back at cheaters. They will do something hilarious with the evidence. An example would be like a video of a groom showing evidence of cheating at the wedding type of thing. I really wish I would have done something like that when I had the chance but my approach was lame. \n",
      "\n",
      "Anyways let's hear your stories. I wanna hear about those badass moments you were able to get back at those cheaters and home wreckers. How did you use your evidence to give these scum what they deserve! \n",
      "\n",
      "I'm hoping for this to be a positive post. I'm sure anyone who has been cheated on would love a good revenge story. Please keep it this positive and no judgment to whom ever post. \n",
      "Thanks! Looking forward to reading some killer stories. \n",
      "-------------------------------------------------\n",
      "Recovering alcoholic husband trying to cheat in a recovery app\n",
      "My husband has been sober for almost 2 years now. Right before he went into a program was when I found out he had been cheating through our entire relationship. He gets through it, gets out, clean as whistle. There have been slip ups with tik Tok thirst traps and porn addiction, but I noticed he had been using his sobriety app more recently and I look and he's commenting stuff like \"great job! Yeah you can do it! I'm here if you ever need to talk blah blah\" on multiple girls posts who are on the app for masturbation or sex addiction. That means he sought them out based on their addiction to find their selfies/posts and comment on them. I am at my wits end. I just wanna know, has anyone else experienced that?\n",
      "-------------------------------------------------\n",
      "My sad story about my cheating wife\n",
      "So I wanted to share what happen in my marriage and how miserable I fell now. Sorry for my English too. (Its my 2nd language)\n",
      "\n",
      "Me 33y M and 37y F are together for over 15 yeras now. Married for 8 yeras. Have 4 yeras old daughter. \n",
      "\n",
      "We live in UK , but originally we are from Poland. Our relationship was often up and down, we had very good times together and some bad too. We weren't perfect that's for sure but every time we wanted to end up being together,  our hearts were telling us to stay and continue. \n",
      "\n",
      "Everything started when I decided to move from Poland to UK , wanted to have better life there , hoping my wife would join me and we can bulit a new family together. She agreed. I was without her for 1.5y , then she came and we started living together again. Everything was very difficult for me at the beginning,  getting new job, language barriers etc. I had saved quite a bit chunk of money before my wife joined me , just to make sure when she arrives we are secure enough to buy a car, rent a house etc. Couple months in , we where good, happy together, having plans to have children. \n",
      "\n",
      "One day I was getting up to work and saw a notification on her phone. Message was \"Hi honey\". Bear in mind a have never ever looked into my wife phone. I did it first time and discovered a full conversation between her and some guy from her last work in Polnad. It wasn't looking very bad, but definitely red flag. He was asking what she is wearing and similar. She also told him to dont text her that early because her husband can see it. There was a lot \"Hi honey how are you\" etc. I told her I know everything and she denied she was cheating, she told me thats only a friend from work and this just the way how they text each other. I didn't believe her and I was asking about that guy for past 8 yeras many times trying to get truth from my wife. She was often very upset about my questions telling me \"what do you think I am?, what you think I was doing with this guy, I would never cheat on you, that was only a firend from work\" I have never believed her and since that happened I have regularly checked my wife phone. \n",
      "\n",
      "Next couple years living in UK we get a house on mortgage and our daughter was born. We were quite happy but I have started very bad problems with my back. Long story short I have a condition called ankylosing spondylitis which cause an every day pain in my back and affecting my life badly. In short my spine is fusing together, there is inflammation in my body constantly. First 4 yeras when my daughter was born were a real struggle for me. My wife was often supportive for me but over time she had enough of me , seeing me in pain etc.\n",
      "\n",
      "About 3 yeras ago she started to text a new guy from her work. Some texts where about to go to hotel one day and she was saying how she is missing him. Again we have a chat about this and she told me it is just stupid way how she talk to guys and she fell sorry and that would never happen again. You can call me a proper fool now. I did believe here but I really felt bad and because we have a little child I didn't want to get apart and divorce. \n",
      "\n",
      "5 weeks ago I have discovered she is texting with someone again, but this time she was deleting messages more often and I couldn't figure out what is she up to. I have a plan and I told her that maybe we should try to meet someone new and then  get a divorce because we argue a lot and I dont know how long we can live like that. What I really wanted was to see if she is doing something again and boy I was right...\n",
      "\n",
      "1 week later I saw her full conversation with her new boss.\n",
      "He is 60y , got wife and 2 kids.\n",
      "They been talking about future together,  trying to schedule some dates, dinners,  booking hotel overnight etc. They been also sexting and fantasy about each other.\n",
      "\n",
      "I was super emotional when I discovered it. She was blaming me for everything and she tried everything to protect him as well. \n",
      "\n",
      "We talked about what happened for days then I came back to that first guy from Poland 8y ago.\n",
      "She admitted they were kissing multiple times and touching each other. When she told me that my heart stopped for a moment. Didn't know what to do and we have another massive argue. \n",
      "\n",
      "Just to add:\n",
      "1st guy married,  trying to have kids\n",
      "\n",
      "2nd guy married , 2 kids\n",
      "\n",
      "3rd guy married, 2 kids\n",
      "\n",
      "I dont want to make this too long, but It was more details to everything what happend in past 8 years. \n",
      "\n",
      "The biggest problem and struggle for me is I still love my wife and I am completely shuttered and broken right now. We are planning a divorce and now and trying to separate. Its a bit hard because we got a mortgage and 4y old daughter. Financially we are not great ether. \n",
      "\n",
      "My wife told me she dont love me any more and dont want to be with me for sure. I have invested so much in our relationship and still love her.\n",
      "\n",
      "Its very hard and I dont know how to cope with this. I know I wasn't best husband ever and my back pain didn't help as well. But I question my self every day now if I really deserved it?\n",
      "\n",
      "Edit 1: \n",
      "I really appreciate all comments and thank you for taking your time writing this to me. I am taking notes of what you saying and I will proceed with some of them.\n",
      "\n",
      "Edit 2:\n",
      "I don't want to go fully ballistic on my wife.\n",
      "I am pretty sure she will stay with my daughter and do joint custody together. I do agree she was awful as a partner , cheating on me with multiple guys. In the end of a day she is still my little daughter mother and I don't want to destroy her or break exactly how she did me.\n",
      "I am really trying now to be better man and reasonably with my actions. Also I want to think clearly,  without my grief or anger and then do everything what I suppose to do in this situation. \n",
      "-------------------------------------------------\n",
      "He showed up to my apartment last night\n",
      "My ex called me exactly 74 times last night. Back to back. Would not stop blowing up my phone for hours. Then he proceeded to text me this. \n",
      "\n",
      "It’s been awhile now, for what it’s worth I’d like to have that conversation. I see things a lot clearer now and I feel absolutely terrible. Believe it or not I’m doing so much better, I’m sober now. I’m willing to do whatever it takes to make things right. \n",
      "\n",
      "Please pick up \n",
      "\n",
      "Or just msg me back \n",
      "\n",
      "Answer please\n",
      "\n",
      "This needs to happen tonight\n",
      "\n",
      "I don’t understand why we can’t have a conversation \n",
      "\n",
      "Why are you making complicated? I have everything intact now but our situation \n",
      "\n",
      "Again I just want to talk \n",
      "\n",
      "Ok I’m on my way\n",
      "\n",
      "Baby can you just tell me what you want \n",
      "\n",
      "Can you come out\n",
      "\n",
      "You don’t know the truth! I understand you don’t want to be with me but I need to fucking tell you my side ~\n",
      "\n",
      "Thankfully I live in a building where he needs a fob to get in and since it was so late at night at this point there was no one else coming inside to let him in easily. But I was scared he was going to wait for someone and show up right to my door in which I would’ve probably had to call the cops. See previous posts for more context but long story short I found out he was sleeping with prostitutes and outside a short conversation about the dog he had gotten me shortly before I have refused to talk to him since then and it’s been about 3 months. I am starting to become a bit scared. \n",
      "-------------------------------------------------\n"
     ]
    }
   ],
   "source": [
    "## sample 5 posts from each subreddit and print post body \n",
    "for subreddit in final_df_joined_all_filtered[\"subreddit\"].unique():\n",
    "    print(subreddit)\n",
    "    sample = final_df_joined_all_filtered[final_df_joined_all_filtered[\"subreddit\"] == subreddit][\"post_body\"].sample(5).values\n",
    "    for post in sample:\n",
    "        print(post)\n",
    "        print(\"-------------------------------------------------\")"
   ],
   "metadata": {
    "collapsed": false,
    "ExecuteTime": {
     "end_time": "2024-05-06T06:17:57.107547Z",
     "start_time": "2024-05-06T06:17:57.062234Z"
    }
   },
   "id": "75bda54cff9c630b",
   "execution_count": 17
  },
  {
   "cell_type": "code",
   "outputs": [
    {
     "data": {
      "text/plain": "married                  4304\nrelationship             4008\ndating                   3955\ncannot be inferred        757\nengaged                   406\nother                     264\nfriends                    58\nco-workers                 26\nroommates                  14\nfamily                      9\nsituationship               2\nclassmates                  1\nfriends with benefits       1\nName: relationship_type, dtype: int64"
     },
     "execution_count": 18,
     "metadata": {},
     "output_type": "execute_result"
    }
   ],
   "source": [
    "final_df_joined_all_filtered[\"relationship_type\"].value_counts()"
   ],
   "metadata": {
    "collapsed": false,
    "ExecuteTime": {
     "end_time": "2024-05-06T06:20:43.255390Z",
     "start_time": "2024-05-06T06:20:43.248246Z"
    }
   },
   "id": "788cec6ca5a4426a",
   "execution_count": 18
  },
  {
   "cell_type": "code",
   "outputs": [],
   "source": [
    "final_df_joined_all_filtered.to_csv(\"/data/home/ilanit.sobol/dv/data/outputs/reddit/labeled/iter2/results_posts_metadata_filtered.csv\")"
   ],
   "metadata": {
    "collapsed": false,
    "ExecuteTime": {
     "end_time": "2024-05-06T06:44:40.266017Z",
     "start_time": "2024-05-06T06:44:38.579011Z"
    }
   },
   "id": "c4e264385fbc4c88",
   "execution_count": 36
  },
  {
   "cell_type": "markdown",
   "source": [
    "### Load the labeled data"
   ],
   "metadata": {
    "collapsed": false
   },
   "id": "d3118233a6ebcedd"
  },
  {
   "cell_type": "code",
   "outputs": [],
   "source": [
    "import pandas as pd\n",
    "import pickle\n",
    "\n",
    "df_metadata = pd.read_csv(\"/data/home/ilanit.sobol/dv/data/outputs/reddit/labeled/iter2/results_posts_metadata_filtered.csv\")\n",
    "results_risks = pickle.load(open('/data/home/ilanit.sobol/dv/data/outputs/reddit/labeled/iter2/results_posts_risks.pkl', 'rb'))"
   ],
   "metadata": {
    "collapsed": false,
    "ExecuteTime": {
     "end_time": "2024-05-15T12:12:41.848058Z",
     "start_time": "2024-05-15T12:12:39.684888Z"
    }
   },
   "id": "4f6518bc330bc8e7",
   "execution_count": 1
  },
  {
   "cell_type": "code",
   "outputs": [
    {
     "data": {
      "text/plain": "array(['abusiverelationships', 'emotionalabuse', 'NarcissisticSpouses',\n       'NarcAbuseAndDivorce', 'domesticviolence', 'abusesurvivors',\n       'relationship_advice', 'survivinginfidelity',\n       'LifeAfterNarcissism', 'ToxicRelationships', 'relationships',\n       'Infidelity'], dtype=object)"
     },
     "execution_count": 4,
     "metadata": {},
     "output_type": "execute_result"
    }
   ],
   "source": [
    "df_metadata[\"subreddit\"].unique()"
   ],
   "metadata": {
    "collapsed": false,
    "ExecuteTime": {
     "end_time": "2024-05-15T12:12:49.274177Z",
     "start_time": "2024-05-15T12:12:49.270008Z"
    }
   },
   "id": "d3977a56c75ebb0e",
   "execution_count": 4
  },
  {
   "cell_type": "code",
   "outputs": [],
   "source": [
    "results_risks = pd.DataFrame(results_risks)\n",
    "results_risks = results_risks[results_risks[\"output_json\"] != None]\n",
    "expanded_json_df_risks = pd.json_normalize(results_risks['output_json'])\n",
    "expanded_json_df_risks[\"post_id\"] = results_risks[\"post_id\"]\n",
    "expanded_json_df_risks = expanded_json_df_risks.set_index(\"post_id\")\n",
    "results_risks = results_risks.set_index(\"post_id\")\n",
    "results_df_joined_risks = results_risks.join(expanded_json_df_risks, how='inner')\n",
    "results_df_joined_risks = results_df_joined_risks.drop([\"output_json\"], axis=1)\n",
    "results_df_joined_risks[\"post_body\"] = results_df_joined_risks[\"story\"]"
   ],
   "metadata": {
    "collapsed": false
   },
   "id": "5ceebcdbe4725e04",
   "execution_count": null
  },
  {
   "cell_type": "code",
   "outputs": [
    {
     "data": {
      "text/plain": "Index(['story', 'emotional_violence', 'physical_violence', 'sexual_violence',\n       'economic_violence', 'past_offenses', 'social_isolation',\n       'refuses_treatment', 'suicidal_threats', 'mental_condition',\n       'daily_activity_control', 'violent_behavior', 'unemployment',\n       'substance_use', 'obsessiveness', 'jealousy', 'outbursts', 'ptsd',\n       'hard_childhood', 'emotional_dependency', 'prevention_of_care',\n       'fear_based_relationship', 'humiliation', 'physical_threats',\n       'presence_of_others_in_assault', 'signs_of_injury', 'property_damage',\n       'access_to_weapons', 'gaslighting', 'victim_support_network',\n       'offender_support_network', 'attempts_to_end_relationship',\n       'refusal_to_end_relationship', 'public_private_discrepancy',\n       'narcissistic_traits', 'aggressive_behavior', 'age_victim',\n       'age_offender', 'gender_victim', 'gender_offender',\n       'spiritual_violence', 'post_body'],\n      dtype='object')"
     },
     "execution_count": 23,
     "metadata": {},
     "output_type": "execute_result"
    }
   ],
   "source": [
    "results_df_joined_risks.columns"
   ],
   "metadata": {
    "collapsed": false,
    "ExecuteTime": {
     "end_time": "2024-05-13T08:52:49.491997Z",
     "start_time": "2024-05-13T08:52:49.488356Z"
    }
   },
   "id": "a061f60e447bc132",
   "execution_count": 23
  },
  {
   "cell_type": "code",
   "outputs": [
    {
     "data": {
      "text/plain": "(9447, 82)"
     },
     "execution_count": 10,
     "metadata": {},
     "output_type": "execute_result"
    }
   ],
   "source": [
    "df_metadata_risks = df_metadata.merge(results_df_joined_risks, left_on = \"post_id\", right_on=\"post_id\", how='inner')\n",
    "df_metadata_risks = df_metadata_risks.reset_index()\n",
    "df_metadata_risks  = df_metadata_risks.drop_duplicates(subset=['post_body_x'])\n",
    "df_metadata_risks.shape"
   ],
   "metadata": {
    "collapsed": false,
    "ExecuteTime": {
     "end_time": "2024-05-15T12:14:00.893493Z",
     "start_time": "2024-05-15T12:14:00.807914Z"
    }
   },
   "id": "8efe166e9d27b2c9",
   "execution_count": 10
  },
  {
   "cell_type": "code",
   "outputs": [],
   "source": [
    "df_metadata_risks.to_csv(\"/data/home/ilanit.sobol/dv/data/outputs/reddit/labeled/iter2/results_posts_risks_joined_all.csv\")"
   ],
   "metadata": {
    "collapsed": false,
    "ExecuteTime": {
     "end_time": "2024-05-15T12:14:25.803298Z",
     "start_time": "2024-05-15T12:14:23.087932Z"
    }
   },
   "id": "268ae6c2fb690d3e",
   "execution_count": 11
  },
  {
   "cell_type": "code",
   "outputs": [
    {
     "data": {
      "text/plain": "   Unnamed: 0  post_id                                              title  \\\n0           0  1b755nn  I (F38) have just broke up with bf (M44) over ...   \n1           1  147v73l                            Hard time bouncing back   \n2           2  15eemjv                                Their romantic past   \n3           4   hcyvco                                  Facebook Facepalm   \n4           5  17m9pnb  My abuser was an extremely socially conscious,...   \n\n            post_author                                               body  \\\n0       pussy_exclusive  Thank you for your advice it gave me strength ...   \n1  Electrical-Plane-373  I (f38) am having a hard time getting past the...   \n2     Federal-Meal-2513  I (F38) have been with my partner (M41) for al...   \n3                Katbag  I have a nex constantly stalking my Facebook a...   \n4        OneMidnight121  This is one of the aspects of my abuse that ha...   \n\n           date_time                                                url  \\\n0  05/03/24 13:26:38  https://www.reddit.com/r/abusiverelationships/...   \n1  12/06/23 19:20:53  https://www.reddit.com/r/emotionalabuse/commen...   \n2  31/07/23 12:18:45  https://www.reddit.com/r/NarcissisticSpouses/c...   \n3  21/06/20 02:18:40  https://www.reddit.com/r/NarcAbuseAndDivorce/c...   \n4  02/11/23 18:08:45  https://www.reddit.com/r/abusiverelationships/...   \n\n   score  num_comments flairs  ... refusal_to_end_relationship  \\\n0     10             6     []  ...                   plausibly   \n1     11             2     []  ...          cannot be inferred   \n2      5             4     []  ...          cannot be inferred   \n3     40            47     []  ...                   plausibly   \n4    133            76     []  ...          cannot be inferred   \n\n  public_private_discrepancy narcissistic_traits aggressive_behavior  \\\n0         cannot be inferred  cannot be inferred           plausibly   \n1         cannot be inferred           plausibly                 yes   \n2                  plausibly           plausibly  cannot be inferred   \n3         cannot be inferred           plausibly  cannot be inferred   \n4                        yes           plausibly           plausibly   \n\n   age_victim age_offender gender_victim gender_offender  spiritual_violence  \\\n0         NaN          NaN           NaN             NaN                 NaN   \n1         NaN          NaN           NaN             NaN                 NaN   \n2         NaN          NaN           NaN             NaN                 NaN   \n3         NaN          NaN        female            male  cannot be inferred   \n4         NaN          NaN          male          female  cannot be inferred   \n\n                                         post_body_y  \n0  I (F38) have just broke up with bf (M44) over ...  \n1  Hard time bouncing back\\nI (f38) am having a h...  \n2  Their romantic past\\nI (F38) have been with my...  \n3  Facebook Facepalm\\nI have a nex constantly sta...  \n4  My abuser was an extremely socially conscious,...  \n\n[5 rows x 81 columns]",
      "text/html": "<div>\n<style scoped>\n    .dataframe tbody tr th:only-of-type {\n        vertical-align: middle;\n    }\n\n    .dataframe tbody tr th {\n        vertical-align: top;\n    }\n\n    .dataframe thead th {\n        text-align: right;\n    }\n</style>\n<table border=\"1\" class=\"dataframe\">\n  <thead>\n    <tr style=\"text-align: right;\">\n      <th></th>\n      <th>Unnamed: 0</th>\n      <th>post_id</th>\n      <th>title</th>\n      <th>post_author</th>\n      <th>body</th>\n      <th>date_time</th>\n      <th>url</th>\n      <th>score</th>\n      <th>num_comments</th>\n      <th>flairs</th>\n      <th>...</th>\n      <th>refusal_to_end_relationship</th>\n      <th>public_private_discrepancy</th>\n      <th>narcissistic_traits</th>\n      <th>aggressive_behavior</th>\n      <th>age_victim</th>\n      <th>age_offender</th>\n      <th>gender_victim</th>\n      <th>gender_offender</th>\n      <th>spiritual_violence</th>\n      <th>post_body_y</th>\n    </tr>\n  </thead>\n  <tbody>\n    <tr>\n      <th>0</th>\n      <td>0</td>\n      <td>1b755nn</td>\n      <td>I (F38) have just broke up with bf (M44) over ...</td>\n      <td>pussy_exclusive</td>\n      <td>Thank you for your advice it gave me strength ...</td>\n      <td>05/03/24 13:26:38</td>\n      <td>https://www.reddit.com/r/abusiverelationships/...</td>\n      <td>10</td>\n      <td>6</td>\n      <td>[]</td>\n      <td>...</td>\n      <td>plausibly</td>\n      <td>cannot be inferred</td>\n      <td>cannot be inferred</td>\n      <td>plausibly</td>\n      <td>NaN</td>\n      <td>NaN</td>\n      <td>NaN</td>\n      <td>NaN</td>\n      <td>NaN</td>\n      <td>I (F38) have just broke up with bf (M44) over ...</td>\n    </tr>\n    <tr>\n      <th>1</th>\n      <td>1</td>\n      <td>147v73l</td>\n      <td>Hard time bouncing back</td>\n      <td>Electrical-Plane-373</td>\n      <td>I (f38) am having a hard time getting past the...</td>\n      <td>12/06/23 19:20:53</td>\n      <td>https://www.reddit.com/r/emotionalabuse/commen...</td>\n      <td>11</td>\n      <td>2</td>\n      <td>[]</td>\n      <td>...</td>\n      <td>cannot be inferred</td>\n      <td>cannot be inferred</td>\n      <td>plausibly</td>\n      <td>yes</td>\n      <td>NaN</td>\n      <td>NaN</td>\n      <td>NaN</td>\n      <td>NaN</td>\n      <td>NaN</td>\n      <td>Hard time bouncing back\\nI (f38) am having a h...</td>\n    </tr>\n    <tr>\n      <th>2</th>\n      <td>2</td>\n      <td>15eemjv</td>\n      <td>Their romantic past</td>\n      <td>Federal-Meal-2513</td>\n      <td>I (F38) have been with my partner (M41) for al...</td>\n      <td>31/07/23 12:18:45</td>\n      <td>https://www.reddit.com/r/NarcissisticSpouses/c...</td>\n      <td>5</td>\n      <td>4</td>\n      <td>[]</td>\n      <td>...</td>\n      <td>cannot be inferred</td>\n      <td>plausibly</td>\n      <td>plausibly</td>\n      <td>cannot be inferred</td>\n      <td>NaN</td>\n      <td>NaN</td>\n      <td>NaN</td>\n      <td>NaN</td>\n      <td>NaN</td>\n      <td>Their romantic past\\nI (F38) have been with my...</td>\n    </tr>\n    <tr>\n      <th>3</th>\n      <td>4</td>\n      <td>hcyvco</td>\n      <td>Facebook Facepalm</td>\n      <td>Katbag</td>\n      <td>I have a nex constantly stalking my Facebook a...</td>\n      <td>21/06/20 02:18:40</td>\n      <td>https://www.reddit.com/r/NarcAbuseAndDivorce/c...</td>\n      <td>40</td>\n      <td>47</td>\n      <td>[]</td>\n      <td>...</td>\n      <td>plausibly</td>\n      <td>cannot be inferred</td>\n      <td>plausibly</td>\n      <td>cannot be inferred</td>\n      <td>NaN</td>\n      <td>NaN</td>\n      <td>female</td>\n      <td>male</td>\n      <td>cannot be inferred</td>\n      <td>Facebook Facepalm\\nI have a nex constantly sta...</td>\n    </tr>\n    <tr>\n      <th>4</th>\n      <td>5</td>\n      <td>17m9pnb</td>\n      <td>My abuser was an extremely socially conscious,...</td>\n      <td>OneMidnight121</td>\n      <td>This is one of the aspects of my abuse that ha...</td>\n      <td>02/11/23 18:08:45</td>\n      <td>https://www.reddit.com/r/abusiverelationships/...</td>\n      <td>133</td>\n      <td>76</td>\n      <td>[]</td>\n      <td>...</td>\n      <td>cannot be inferred</td>\n      <td>yes</td>\n      <td>plausibly</td>\n      <td>plausibly</td>\n      <td>NaN</td>\n      <td>NaN</td>\n      <td>male</td>\n      <td>female</td>\n      <td>cannot be inferred</td>\n      <td>My abuser was an extremely socially conscious,...</td>\n    </tr>\n  </tbody>\n</table>\n<p>5 rows × 81 columns</p>\n</div>"
     },
     "execution_count": 7,
     "metadata": {},
     "output_type": "execute_result"
    }
   ],
   "source": [
    "df_metadata_risks.head()"
   ],
   "metadata": {
    "collapsed": false,
    "ExecuteTime": {
     "end_time": "2024-05-15T12:13:01.281803Z",
     "start_time": "2024-05-15T12:13:01.267196Z"
    }
   },
   "id": "85d46723a982f5ed",
   "execution_count": 7
  },
  {
   "cell_type": "code",
   "outputs": [
    {
     "data": {
      "text/plain": "no                    4682\ncannot be inferred    2636\nyes                   2164\nName: living_with, dtype: int64"
     },
     "execution_count": 8,
     "metadata": {},
     "output_type": "execute_result"
    }
   ],
   "source": [
    "df_metadata_risks[\"living_with\"].value_counts()"
   ],
   "metadata": {
    "collapsed": false,
    "ExecuteTime": {
     "end_time": "2024-05-15T12:13:06.457371Z",
     "start_time": "2024-05-15T12:13:06.452262Z"
    }
   },
   "id": "5edb3397054c04a5",
   "execution_count": 8
  },
  {
   "cell_type": "code",
   "outputs": [
    {
     "data": {
      "text/plain": "yes                   7435\ncannot be inferred    1201\nno                     555\nirrelevant             291\nName: abusive_relationship, dtype: int64"
     },
     "execution_count": 94,
     "metadata": {},
     "output_type": "execute_result"
    }
   ],
   "source": [
    "df_metadata_risks[\"abusive_relationship\"].value_counts()"
   ],
   "metadata": {
    "collapsed": false,
    "ExecuteTime": {
     "end_time": "2024-05-09T16:38:51.044634Z",
     "start_time": "2024-05-09T16:38:51.039580Z"
    }
   },
   "id": "bd84aabf11b98599",
   "execution_count": 94
  },
  {
   "cell_type": "code",
   "outputs": [
    {
     "data": {
      "text/plain": "cannot be inferred    7138\nplausibly              855\nyes                    845\nno                     644\nName: physical_threats, dtype: int64"
     },
     "execution_count": 95,
     "metadata": {},
     "output_type": "execute_result"
    }
   ],
   "source": [
    "df_metadata_risks[\"physical_threats\"].value_counts()"
   ],
   "metadata": {
    "collapsed": false,
    "ExecuteTime": {
     "end_time": "2024-05-09T16:41:49.649176Z",
     "start_time": "2024-05-09T16:41:49.642696Z"
    }
   },
   "id": "6754e4c75608480",
   "execution_count": 95
  }
 ],
 "metadata": {
  "kernelspec": {
   "display_name": "Python 3",
   "language": "python",
   "name": "python3"
  },
  "language_info": {
   "codemirror_mode": {
    "name": "ipython",
    "version": 2
   },
   "file_extension": ".py",
   "mimetype": "text/x-python",
   "name": "python",
   "nbconvert_exporter": "python",
   "pygments_lexer": "ipython2",
   "version": "2.7.6"
  }
 },
 "nbformat": 4,
 "nbformat_minor": 5
}
